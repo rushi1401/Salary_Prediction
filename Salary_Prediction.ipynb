{
 "cells": [
  {
   "cell_type": "code",
   "execution_count": 144,
   "id": "98574007",
   "metadata": {},
   "outputs": [],
   "source": [
    "import pandas as pd \n",
    "import numpy as np\n",
    "import seaborn as sns"
   ]
  },
  {
   "cell_type": "code",
   "execution_count": 145,
   "id": "ee8244d2",
   "metadata": {},
   "outputs": [],
   "source": [
    "import matplotlib.pyplot as plt"
   ]
  },
  {
   "cell_type": "code",
   "execution_count": 146,
   "id": "d6e674f6",
   "metadata": {},
   "outputs": [],
   "source": [
    "df1=pd.read_csv('ML case Study.csv')"
   ]
  },
  {
   "cell_type": "code",
   "execution_count": 147,
   "id": "a643ec8a",
   "metadata": {},
   "outputs": [],
   "source": [
    "cities=pd.read_csv('cities.csv')\n",
    "Colleges=pd.read_csv('Colleges.csv')"
   ]
  },
  {
   "cell_type": "code",
   "execution_count": 148,
   "id": "6f36838f",
   "metadata": {},
   "outputs": [
    {
     "data": {
      "text/html": [
       "<div>\n",
       "<style scoped>\n",
       "    .dataframe tbody tr th:only-of-type {\n",
       "        vertical-align: middle;\n",
       "    }\n",
       "\n",
       "    .dataframe tbody tr th {\n",
       "        vertical-align: top;\n",
       "    }\n",
       "\n",
       "    .dataframe thead th {\n",
       "        text-align: right;\n",
       "    }\n",
       "</style>\n",
       "<table border=\"1\" class=\"dataframe\">\n",
       "  <thead>\n",
       "    <tr style=\"text-align: right;\">\n",
       "      <th></th>\n",
       "      <th>College</th>\n",
       "      <th>City</th>\n",
       "      <th>Role</th>\n",
       "      <th>Previous CTC</th>\n",
       "      <th>Previous job change</th>\n",
       "      <th>Graduation Marks</th>\n",
       "      <th>EXP (Month)</th>\n",
       "      <th>CTC</th>\n",
       "    </tr>\n",
       "  </thead>\n",
       "  <tbody>\n",
       "    <tr>\n",
       "      <th>0</th>\n",
       "      <td>SVNIT Surat</td>\n",
       "      <td>Asansol</td>\n",
       "      <td>Manager</td>\n",
       "      <td>55523.0</td>\n",
       "      <td>3</td>\n",
       "      <td>66</td>\n",
       "      <td>19</td>\n",
       "      <td>71406.58</td>\n",
       "    </tr>\n",
       "    <tr>\n",
       "      <th>1</th>\n",
       "      <td>NIT Bhopal</td>\n",
       "      <td>Ajmer</td>\n",
       "      <td>Executive</td>\n",
       "      <td>57081.0</td>\n",
       "      <td>1</td>\n",
       "      <td>84</td>\n",
       "      <td>18</td>\n",
       "      <td>68005.87</td>\n",
       "    </tr>\n",
       "    <tr>\n",
       "      <th>2</th>\n",
       "      <td>IEM, Kolkata</td>\n",
       "      <td>Rajpur Sonarpur</td>\n",
       "      <td>Executive</td>\n",
       "      <td>60347.0</td>\n",
       "      <td>2</td>\n",
       "      <td>52</td>\n",
       "      <td>28</td>\n",
       "      <td>76764.02</td>\n",
       "    </tr>\n",
       "    <tr>\n",
       "      <th>3</th>\n",
       "      <td>KIIT, Bhubaneswar</td>\n",
       "      <td>Ajmer</td>\n",
       "      <td>Executive</td>\n",
       "      <td>49010.0</td>\n",
       "      <td>2</td>\n",
       "      <td>81</td>\n",
       "      <td>33</td>\n",
       "      <td>82092.39</td>\n",
       "    </tr>\n",
       "    <tr>\n",
       "      <th>4</th>\n",
       "      <td>DTU</td>\n",
       "      <td>Durgapur</td>\n",
       "      <td>Executive</td>\n",
       "      <td>57879.0</td>\n",
       "      <td>4</td>\n",
       "      <td>74</td>\n",
       "      <td>32</td>\n",
       "      <td>73878.10</td>\n",
       "    </tr>\n",
       "  </tbody>\n",
       "</table>\n",
       "</div>"
      ],
      "text/plain": [
       "             College             City       Role  Previous CTC  \\\n",
       "0        SVNIT Surat          Asansol    Manager       55523.0   \n",
       "1         NIT Bhopal            Ajmer  Executive       57081.0   \n",
       "2       IEM, Kolkata  Rajpur Sonarpur  Executive       60347.0   \n",
       "3  KIIT, Bhubaneswar            Ajmer  Executive       49010.0   \n",
       "4                DTU         Durgapur  Executive       57879.0   \n",
       "\n",
       "   Previous job change  Graduation Marks  EXP (Month)       CTC  \n",
       "0                    3                66           19  71406.58  \n",
       "1                    1                84           18  68005.87  \n",
       "2                    2                52           28  76764.02  \n",
       "3                    2                81           33  82092.39  \n",
       "4                    4                74           32  73878.10  "
      ]
     },
     "execution_count": 148,
     "metadata": {},
     "output_type": "execute_result"
    }
   ],
   "source": [
    "df1.head()"
   ]
  },
  {
   "cell_type": "code",
   "execution_count": 149,
   "id": "9f6533a3",
   "metadata": {},
   "outputs": [
    {
     "data": {
      "text/html": [
       "<div>\n",
       "<style scoped>\n",
       "    .dataframe tbody tr th:only-of-type {\n",
       "        vertical-align: middle;\n",
       "    }\n",
       "\n",
       "    .dataframe tbody tr th {\n",
       "        vertical-align: top;\n",
       "    }\n",
       "\n",
       "    .dataframe thead th {\n",
       "        text-align: right;\n",
       "    }\n",
       "</style>\n",
       "<table border=\"1\" class=\"dataframe\">\n",
       "  <thead>\n",
       "    <tr style=\"text-align: right;\">\n",
       "      <th></th>\n",
       "      <th>Tier 1</th>\n",
       "      <th>Tier 2</th>\n",
       "      <th>Tier 3</th>\n",
       "    </tr>\n",
       "  </thead>\n",
       "  <tbody>\n",
       "    <tr>\n",
       "      <th>0</th>\n",
       "      <td>IIT Bombay</td>\n",
       "      <td>IIIT Bangalore</td>\n",
       "      <td>Ramaiah Institute of Technology, Bengaluru</td>\n",
       "    </tr>\n",
       "    <tr>\n",
       "      <th>1</th>\n",
       "      <td>IIT Delhi</td>\n",
       "      <td>IIIT Delhi</td>\n",
       "      <td>TIET/Thapar University</td>\n",
       "    </tr>\n",
       "    <tr>\n",
       "      <th>2</th>\n",
       "      <td>IIT Kharagpur</td>\n",
       "      <td>IGDTUW</td>\n",
       "      <td>Manipal Main Campus</td>\n",
       "    </tr>\n",
       "    <tr>\n",
       "      <th>3</th>\n",
       "      <td>IIT Madras</td>\n",
       "      <td>NIT Calicut</td>\n",
       "      <td>VIT Vellore</td>\n",
       "    </tr>\n",
       "    <tr>\n",
       "      <th>4</th>\n",
       "      <td>IIT Kanpur</td>\n",
       "      <td>IIITM Gwalior</td>\n",
       "      <td>SRM Main Campus</td>\n",
       "    </tr>\n",
       "    <tr>\n",
       "      <th>5</th>\n",
       "      <td>IIT Roorkee</td>\n",
       "      <td>IIIT Lucknow</td>\n",
       "      <td>KIIT, Bhubaneswar</td>\n",
       "    </tr>\n",
       "    <tr>\n",
       "      <th>6</th>\n",
       "      <td>IIT Guwahati</td>\n",
       "      <td>MNNIT Allahabad</td>\n",
       "      <td>Amity University</td>\n",
       "    </tr>\n",
       "    <tr>\n",
       "      <th>7</th>\n",
       "      <td>IIIT Hyderabad</td>\n",
       "      <td>Punjab Engineering College</td>\n",
       "      <td>BMS College, Bangalore</td>\n",
       "    </tr>\n",
       "    <tr>\n",
       "      <th>8</th>\n",
       "      <td>BITS Pilani (Pilani Campus)</td>\n",
       "      <td>DAIICT</td>\n",
       "      <td>PES University, Bangalore</td>\n",
       "    </tr>\n",
       "    <tr>\n",
       "      <th>9</th>\n",
       "      <td>IIT Indore</td>\n",
       "      <td>MNIT Jaipur</td>\n",
       "      <td>USIT, Delhi</td>\n",
       "    </tr>\n",
       "    <tr>\n",
       "      <th>10</th>\n",
       "      <td>IIT Ropar</td>\n",
       "      <td>NIT Durgapur</td>\n",
       "      <td>MAIT, Delhi</td>\n",
       "    </tr>\n",
       "    <tr>\n",
       "      <th>11</th>\n",
       "      <td>IIT BHU (Varanasi)</td>\n",
       "      <td>VNIT Nagpur</td>\n",
       "      <td>MSIT, Delhi</td>\n",
       "    </tr>\n",
       "    <tr>\n",
       "      <th>12</th>\n",
       "      <td>IIT ISM Dhanbad</td>\n",
       "      <td>LNMIIT</td>\n",
       "      <td>Dayanand College of Engineering, Bangalore</td>\n",
       "    </tr>\n",
       "    <tr>\n",
       "      <th>13</th>\n",
       "      <td>DTU</td>\n",
       "      <td>BIT Mesra</td>\n",
       "      <td>Heritage Institute of Technology, Kolkata</td>\n",
       "    </tr>\n",
       "    <tr>\n",
       "      <th>14</th>\n",
       "      <td>NSUT Delhi (NSIT)</td>\n",
       "      <td>SVNIT Surat</td>\n",
       "      <td>IEM, Kolkata</td>\n",
       "    </tr>\n",
       "    <tr>\n",
       "      <th>15</th>\n",
       "      <td>NIT Tiruchipally (Trichy)</td>\n",
       "      <td>NIT Jalandhar</td>\n",
       "      <td>Techno India, Kolkata</td>\n",
       "    </tr>\n",
       "    <tr>\n",
       "      <th>16</th>\n",
       "      <td>NIT Warangal</td>\n",
       "      <td>NIT Jamshedpur</td>\n",
       "      <td>Jaypee, Noida</td>\n",
       "    </tr>\n",
       "    <tr>\n",
       "      <th>17</th>\n",
       "      <td>NIT Surathkal (Karnataka)</td>\n",
       "      <td>NIT Kurukshetra</td>\n",
       "      <td>Amrita University, Coimbatore</td>\n",
       "    </tr>\n",
       "    <tr>\n",
       "      <th>18</th>\n",
       "      <td>Jadavpur University</td>\n",
       "      <td>NIT Patna</td>\n",
       "      <td>Cummins College of Engineering for Women, Pune</td>\n",
       "    </tr>\n",
       "    <tr>\n",
       "      <th>19</th>\n",
       "      <td>BITS Pilani (Hyderabad Campus)</td>\n",
       "      <td>NIT Raipur</td>\n",
       "      <td>NaN</td>\n",
       "    </tr>\n",
       "    <tr>\n",
       "      <th>20</th>\n",
       "      <td>BITS Pilani (Goa Campus)</td>\n",
       "      <td>NIT Bhopal</td>\n",
       "      <td>NaN</td>\n",
       "    </tr>\n",
       "    <tr>\n",
       "      <th>21</th>\n",
       "      <td>IIIT Allahabad</td>\n",
       "      <td>NIT Rourkela</td>\n",
       "      <td>NaN</td>\n",
       "    </tr>\n",
       "    <tr>\n",
       "      <th>22</th>\n",
       "      <td>NaN</td>\n",
       "      <td>NIT Silchar</td>\n",
       "      <td>NaN</td>\n",
       "    </tr>\n",
       "    <tr>\n",
       "      <th>23</th>\n",
       "      <td>NaN</td>\n",
       "      <td>NIT Sikkim</td>\n",
       "      <td>NaN</td>\n",
       "    </tr>\n",
       "    <tr>\n",
       "      <th>24</th>\n",
       "      <td>NaN</td>\n",
       "      <td>IIIT Jabalpur</td>\n",
       "      <td>NaN</td>\n",
       "    </tr>\n",
       "    <tr>\n",
       "      <th>25</th>\n",
       "      <td>NaN</td>\n",
       "      <td>Jalpaiguri Government Engineering College</td>\n",
       "      <td>NaN</td>\n",
       "    </tr>\n",
       "    <tr>\n",
       "      <th>26</th>\n",
       "      <td>NaN</td>\n",
       "      <td>IIEST/BESU Shibpur</td>\n",
       "      <td>NaN</td>\n",
       "    </tr>\n",
       "    <tr>\n",
       "      <th>27</th>\n",
       "      <td>NaN</td>\n",
       "      <td>R.V. College of Engineering</td>\n",
       "      <td>NaN</td>\n",
       "    </tr>\n",
       "  </tbody>\n",
       "</table>\n",
       "</div>"
      ],
      "text/plain": [
       "                            Tier 1                                     Tier 2  \\\n",
       "0                       IIT Bombay                             IIIT Bangalore   \n",
       "1                        IIT Delhi                                 IIIT Delhi   \n",
       "2                    IIT Kharagpur                                     IGDTUW   \n",
       "3                       IIT Madras                                NIT Calicut   \n",
       "4                       IIT Kanpur                              IIITM Gwalior   \n",
       "5                      IIT Roorkee                               IIIT Lucknow   \n",
       "6                     IIT Guwahati                            MNNIT Allahabad   \n",
       "7                   IIIT Hyderabad                 Punjab Engineering College   \n",
       "8      BITS Pilani (Pilani Campus)                                     DAIICT   \n",
       "9                       IIT Indore                                MNIT Jaipur   \n",
       "10                       IIT Ropar                               NIT Durgapur   \n",
       "11              IIT BHU (Varanasi)                                VNIT Nagpur   \n",
       "12                 IIT ISM Dhanbad                                     LNMIIT   \n",
       "13                             DTU                                  BIT Mesra   \n",
       "14               NSUT Delhi (NSIT)                                SVNIT Surat   \n",
       "15       NIT Tiruchipally (Trichy)                              NIT Jalandhar   \n",
       "16                    NIT Warangal                             NIT Jamshedpur   \n",
       "17       NIT Surathkal (Karnataka)                            NIT Kurukshetra   \n",
       "18             Jadavpur University                                  NIT Patna   \n",
       "19  BITS Pilani (Hyderabad Campus)                                 NIT Raipur   \n",
       "20        BITS Pilani (Goa Campus)                                 NIT Bhopal   \n",
       "21                  IIIT Allahabad                               NIT Rourkela   \n",
       "22                             NaN                                NIT Silchar   \n",
       "23                             NaN                                 NIT Sikkim   \n",
       "24                             NaN                              IIIT Jabalpur   \n",
       "25                             NaN  Jalpaiguri Government Engineering College   \n",
       "26                             NaN                         IIEST/BESU Shibpur   \n",
       "27                             NaN                R.V. College of Engineering   \n",
       "\n",
       "                                            Tier 3  \n",
       "0       Ramaiah Institute of Technology, Bengaluru  \n",
       "1                           TIET/Thapar University  \n",
       "2                              Manipal Main Campus  \n",
       "3                                      VIT Vellore  \n",
       "4                                  SRM Main Campus  \n",
       "5                                KIIT, Bhubaneswar  \n",
       "6                                 Amity University  \n",
       "7                           BMS College, Bangalore  \n",
       "8                        PES University, Bangalore  \n",
       "9                                      USIT, Delhi  \n",
       "10                                     MAIT, Delhi  \n",
       "11                                     MSIT, Delhi  \n",
       "12      Dayanand College of Engineering, Bangalore  \n",
       "13       Heritage Institute of Technology, Kolkata  \n",
       "14                                    IEM, Kolkata  \n",
       "15                           Techno India, Kolkata  \n",
       "16                                   Jaypee, Noida  \n",
       "17                   Amrita University, Coimbatore  \n",
       "18  Cummins College of Engineering for Women, Pune  \n",
       "19                                             NaN  \n",
       "20                                             NaN  \n",
       "21                                             NaN  \n",
       "22                                             NaN  \n",
       "23                                             NaN  \n",
       "24                                             NaN  \n",
       "25                                             NaN  \n",
       "26                                             NaN  \n",
       "27                                             NaN  "
      ]
     },
     "execution_count": 149,
     "metadata": {},
     "output_type": "execute_result"
    }
   ],
   "source": [
    "Colleges"
   ]
  },
  {
   "cell_type": "code",
   "execution_count": 150,
   "id": "42a45fb7",
   "metadata": {},
   "outputs": [
    {
     "data": {
      "text/html": [
       "<div>\n",
       "<style scoped>\n",
       "    .dataframe tbody tr th:only-of-type {\n",
       "        vertical-align: middle;\n",
       "    }\n",
       "\n",
       "    .dataframe tbody tr th {\n",
       "        vertical-align: top;\n",
       "    }\n",
       "\n",
       "    .dataframe thead th {\n",
       "        text-align: right;\n",
       "    }\n",
       "</style>\n",
       "<table border=\"1\" class=\"dataframe\">\n",
       "  <thead>\n",
       "    <tr style=\"text-align: right;\">\n",
       "      <th></th>\n",
       "      <th>Tier 1</th>\n",
       "      <th>Tier 2</th>\n",
       "      <th>Tier 3</th>\n",
       "    </tr>\n",
       "  </thead>\n",
       "  <tbody>\n",
       "    <tr>\n",
       "      <th>0</th>\n",
       "      <td>IIT Bombay</td>\n",
       "      <td>IIIT Bangalore</td>\n",
       "      <td>Ramaiah Institute of Technology, Bengaluru</td>\n",
       "    </tr>\n",
       "    <tr>\n",
       "      <th>1</th>\n",
       "      <td>IIT Delhi</td>\n",
       "      <td>IIIT Delhi</td>\n",
       "      <td>TIET/Thapar University</td>\n",
       "    </tr>\n",
       "    <tr>\n",
       "      <th>2</th>\n",
       "      <td>IIT Kharagpur</td>\n",
       "      <td>IGDTUW</td>\n",
       "      <td>Manipal Main Campus</td>\n",
       "    </tr>\n",
       "    <tr>\n",
       "      <th>3</th>\n",
       "      <td>IIT Madras</td>\n",
       "      <td>NIT Calicut</td>\n",
       "      <td>VIT Vellore</td>\n",
       "    </tr>\n",
       "    <tr>\n",
       "      <th>4</th>\n",
       "      <td>IIT Kanpur</td>\n",
       "      <td>IIITM Gwalior</td>\n",
       "      <td>SRM Main Campus</td>\n",
       "    </tr>\n",
       "    <tr>\n",
       "      <th>5</th>\n",
       "      <td>IIT Roorkee</td>\n",
       "      <td>IIIT Lucknow</td>\n",
       "      <td>KIIT, Bhubaneswar</td>\n",
       "    </tr>\n",
       "    <tr>\n",
       "      <th>6</th>\n",
       "      <td>IIT Guwahati</td>\n",
       "      <td>MNNIT Allahabad</td>\n",
       "      <td>Amity University</td>\n",
       "    </tr>\n",
       "    <tr>\n",
       "      <th>7</th>\n",
       "      <td>IIIT Hyderabad</td>\n",
       "      <td>Punjab Engineering College</td>\n",
       "      <td>BMS College, Bangalore</td>\n",
       "    </tr>\n",
       "    <tr>\n",
       "      <th>8</th>\n",
       "      <td>BITS Pilani (Pilani Campus)</td>\n",
       "      <td>DAIICT</td>\n",
       "      <td>PES University, Bangalore</td>\n",
       "    </tr>\n",
       "    <tr>\n",
       "      <th>9</th>\n",
       "      <td>IIT Indore</td>\n",
       "      <td>MNIT Jaipur</td>\n",
       "      <td>USIT, Delhi</td>\n",
       "    </tr>\n",
       "    <tr>\n",
       "      <th>10</th>\n",
       "      <td>IIT Ropar</td>\n",
       "      <td>NIT Durgapur</td>\n",
       "      <td>MAIT, Delhi</td>\n",
       "    </tr>\n",
       "    <tr>\n",
       "      <th>11</th>\n",
       "      <td>IIT BHU (Varanasi)</td>\n",
       "      <td>VNIT Nagpur</td>\n",
       "      <td>MSIT, Delhi</td>\n",
       "    </tr>\n",
       "    <tr>\n",
       "      <th>12</th>\n",
       "      <td>IIT ISM Dhanbad</td>\n",
       "      <td>LNMIIT</td>\n",
       "      <td>Dayanand College of Engineering, Bangalore</td>\n",
       "    </tr>\n",
       "    <tr>\n",
       "      <th>13</th>\n",
       "      <td>DTU</td>\n",
       "      <td>BIT Mesra</td>\n",
       "      <td>Heritage Institute of Technology, Kolkata</td>\n",
       "    </tr>\n",
       "    <tr>\n",
       "      <th>14</th>\n",
       "      <td>NSUT Delhi (NSIT)</td>\n",
       "      <td>SVNIT Surat</td>\n",
       "      <td>IEM, Kolkata</td>\n",
       "    </tr>\n",
       "    <tr>\n",
       "      <th>15</th>\n",
       "      <td>NIT Tiruchipally (Trichy)</td>\n",
       "      <td>NIT Jalandhar</td>\n",
       "      <td>Techno India, Kolkata</td>\n",
       "    </tr>\n",
       "    <tr>\n",
       "      <th>16</th>\n",
       "      <td>NIT Warangal</td>\n",
       "      <td>NIT Jamshedpur</td>\n",
       "      <td>Jaypee, Noida</td>\n",
       "    </tr>\n",
       "    <tr>\n",
       "      <th>17</th>\n",
       "      <td>NIT Surathkal (Karnataka)</td>\n",
       "      <td>NIT Kurukshetra</td>\n",
       "      <td>Amrita University, Coimbatore</td>\n",
       "    </tr>\n",
       "    <tr>\n",
       "      <th>18</th>\n",
       "      <td>Jadavpur University</td>\n",
       "      <td>NIT Patna</td>\n",
       "      <td>Cummins College of Engineering for Women, Pune</td>\n",
       "    </tr>\n",
       "  </tbody>\n",
       "</table>\n",
       "</div>"
      ],
      "text/plain": [
       "                         Tier 1                      Tier 2  \\\n",
       "0                    IIT Bombay              IIIT Bangalore   \n",
       "1                     IIT Delhi                  IIIT Delhi   \n",
       "2                 IIT Kharagpur                      IGDTUW   \n",
       "3                    IIT Madras                 NIT Calicut   \n",
       "4                    IIT Kanpur               IIITM Gwalior   \n",
       "5                   IIT Roorkee                IIIT Lucknow   \n",
       "6                  IIT Guwahati             MNNIT Allahabad   \n",
       "7                IIIT Hyderabad  Punjab Engineering College   \n",
       "8   BITS Pilani (Pilani Campus)                      DAIICT   \n",
       "9                    IIT Indore                 MNIT Jaipur   \n",
       "10                    IIT Ropar                NIT Durgapur   \n",
       "11           IIT BHU (Varanasi)                 VNIT Nagpur   \n",
       "12              IIT ISM Dhanbad                      LNMIIT   \n",
       "13                          DTU                   BIT Mesra   \n",
       "14            NSUT Delhi (NSIT)                 SVNIT Surat   \n",
       "15    NIT Tiruchipally (Trichy)               NIT Jalandhar   \n",
       "16                 NIT Warangal              NIT Jamshedpur   \n",
       "17    NIT Surathkal (Karnataka)             NIT Kurukshetra   \n",
       "18          Jadavpur University                   NIT Patna   \n",
       "\n",
       "                                            Tier 3  \n",
       "0       Ramaiah Institute of Technology, Bengaluru  \n",
       "1                           TIET/Thapar University  \n",
       "2                              Manipal Main Campus  \n",
       "3                                      VIT Vellore  \n",
       "4                                  SRM Main Campus  \n",
       "5                                KIIT, Bhubaneswar  \n",
       "6                                 Amity University  \n",
       "7                           BMS College, Bangalore  \n",
       "8                        PES University, Bangalore  \n",
       "9                                      USIT, Delhi  \n",
       "10                                     MAIT, Delhi  \n",
       "11                                     MSIT, Delhi  \n",
       "12      Dayanand College of Engineering, Bangalore  \n",
       "13       Heritage Institute of Technology, Kolkata  \n",
       "14                                    IEM, Kolkata  \n",
       "15                           Techno India, Kolkata  \n",
       "16                                   Jaypee, Noida  \n",
       "17                   Amrita University, Coimbatore  \n",
       "18  Cummins College of Engineering for Women, Pune  "
      ]
     },
     "execution_count": 150,
     "metadata": {},
     "output_type": "execute_result"
    }
   ],
   "source": [
    "Colleges. dropna(axis=0)\n"
   ]
  },
  {
   "cell_type": "code",
   "execution_count": 151,
   "id": "e2377efb",
   "metadata": {},
   "outputs": [],
   "source": [
    "Tier1=Colleges['Tier 1'].tolist()\n",
    "Tier2=Colleges['Tier 2'].tolist()\n",
    "Tier3=Colleges['Tier 3'].tolist()\n"
   ]
  },
  {
   "cell_type": "code",
   "execution_count": 152,
   "id": "72b36c5f",
   "metadata": {},
   "outputs": [],
   "source": [
    "for item in df1.College:\n",
    "    if item in Tier1:\n",
    "        df1[\"College\"].replace(item,1,inplace=True)\n",
    "    elif item in Tier2:\n",
    "        df1[\"College\"].replace(item,2,inplace=True)\n",
    "    elif item in Tier3:\n",
    "        df1[\"College\"].replace(item,3,inplace=True)"
   ]
  },
  {
   "cell_type": "code",
   "execution_count": 153,
   "id": "fe4502bd",
   "metadata": {
    "scrolled": true
   },
   "outputs": [
    {
     "data": {
      "text/html": [
       "<div>\n",
       "<style scoped>\n",
       "    .dataframe tbody tr th:only-of-type {\n",
       "        vertical-align: middle;\n",
       "    }\n",
       "\n",
       "    .dataframe tbody tr th {\n",
       "        vertical-align: top;\n",
       "    }\n",
       "\n",
       "    .dataframe thead th {\n",
       "        text-align: right;\n",
       "    }\n",
       "</style>\n",
       "<table border=\"1\" class=\"dataframe\">\n",
       "  <thead>\n",
       "    <tr style=\"text-align: right;\">\n",
       "      <th></th>\n",
       "      <th>College</th>\n",
       "      <th>City</th>\n",
       "      <th>Role</th>\n",
       "      <th>Previous CTC</th>\n",
       "      <th>Previous job change</th>\n",
       "      <th>Graduation Marks</th>\n",
       "      <th>EXP (Month)</th>\n",
       "      <th>CTC</th>\n",
       "    </tr>\n",
       "  </thead>\n",
       "  <tbody>\n",
       "    <tr>\n",
       "      <th>0</th>\n",
       "      <td>2</td>\n",
       "      <td>Asansol</td>\n",
       "      <td>Manager</td>\n",
       "      <td>55523.0</td>\n",
       "      <td>3</td>\n",
       "      <td>66</td>\n",
       "      <td>19</td>\n",
       "      <td>71406.58</td>\n",
       "    </tr>\n",
       "    <tr>\n",
       "      <th>1</th>\n",
       "      <td>2</td>\n",
       "      <td>Ajmer</td>\n",
       "      <td>Executive</td>\n",
       "      <td>57081.0</td>\n",
       "      <td>1</td>\n",
       "      <td>84</td>\n",
       "      <td>18</td>\n",
       "      <td>68005.87</td>\n",
       "    </tr>\n",
       "    <tr>\n",
       "      <th>2</th>\n",
       "      <td>3</td>\n",
       "      <td>Rajpur Sonarpur</td>\n",
       "      <td>Executive</td>\n",
       "      <td>60347.0</td>\n",
       "      <td>2</td>\n",
       "      <td>52</td>\n",
       "      <td>28</td>\n",
       "      <td>76764.02</td>\n",
       "    </tr>\n",
       "    <tr>\n",
       "      <th>3</th>\n",
       "      <td>3</td>\n",
       "      <td>Ajmer</td>\n",
       "      <td>Executive</td>\n",
       "      <td>49010.0</td>\n",
       "      <td>2</td>\n",
       "      <td>81</td>\n",
       "      <td>33</td>\n",
       "      <td>82092.39</td>\n",
       "    </tr>\n",
       "    <tr>\n",
       "      <th>4</th>\n",
       "      <td>1</td>\n",
       "      <td>Durgapur</td>\n",
       "      <td>Executive</td>\n",
       "      <td>57879.0</td>\n",
       "      <td>4</td>\n",
       "      <td>74</td>\n",
       "      <td>32</td>\n",
       "      <td>73878.10</td>\n",
       "    </tr>\n",
       "  </tbody>\n",
       "</table>\n",
       "</div>"
      ],
      "text/plain": [
       "   College             City       Role  Previous CTC  Previous job change  \\\n",
       "0        2          Asansol    Manager       55523.0                    3   \n",
       "1        2            Ajmer  Executive       57081.0                    1   \n",
       "2        3  Rajpur Sonarpur  Executive       60347.0                    2   \n",
       "3        3            Ajmer  Executive       49010.0                    2   \n",
       "4        1         Durgapur  Executive       57879.0                    4   \n",
       "\n",
       "   Graduation Marks  EXP (Month)       CTC  \n",
       "0                66           19  71406.58  \n",
       "1                84           18  68005.87  \n",
       "2                52           28  76764.02  \n",
       "3                81           33  82092.39  \n",
       "4                74           32  73878.10  "
      ]
     },
     "execution_count": 153,
     "metadata": {},
     "output_type": "execute_result"
    }
   ],
   "source": [
    "df1.head()"
   ]
  },
  {
   "cell_type": "code",
   "execution_count": 154,
   "id": "b06ba4d8",
   "metadata": {
    "scrolled": true
   },
   "outputs": [
    {
     "data": {
      "text/html": [
       "<div>\n",
       "<style scoped>\n",
       "    .dataframe tbody tr th:only-of-type {\n",
       "        vertical-align: middle;\n",
       "    }\n",
       "\n",
       "    .dataframe tbody tr th {\n",
       "        vertical-align: top;\n",
       "    }\n",
       "\n",
       "    .dataframe thead th {\n",
       "        text-align: right;\n",
       "    }\n",
       "</style>\n",
       "<table border=\"1\" class=\"dataframe\">\n",
       "  <thead>\n",
       "    <tr style=\"text-align: right;\">\n",
       "      <th></th>\n",
       "      <th>Metrio City</th>\n",
       "      <th>non-metro cities</th>\n",
       "    </tr>\n",
       "  </thead>\n",
       "  <tbody>\n",
       "    <tr>\n",
       "      <th>0</th>\n",
       "      <td>Mumbai</td>\n",
       "      <td>Dehradun</td>\n",
       "    </tr>\n",
       "    <tr>\n",
       "      <th>1</th>\n",
       "      <td>Delhi</td>\n",
       "      <td>Durgapur</td>\n",
       "    </tr>\n",
       "    <tr>\n",
       "      <th>2</th>\n",
       "      <td>Kolkata</td>\n",
       "      <td>Asansol</td>\n",
       "    </tr>\n",
       "    <tr>\n",
       "      <th>3</th>\n",
       "      <td>Chennai</td>\n",
       "      <td>Rourkela</td>\n",
       "    </tr>\n",
       "    <tr>\n",
       "      <th>4</th>\n",
       "      <td>Bangalore</td>\n",
       "      <td>Kozhikode</td>\n",
       "    </tr>\n",
       "    <tr>\n",
       "      <th>5</th>\n",
       "      <td>Hyderabad</td>\n",
       "      <td>Rajpur Sonarpur</td>\n",
       "    </tr>\n",
       "    <tr>\n",
       "      <th>6</th>\n",
       "      <td>Ahmedabad</td>\n",
       "      <td>Kolhapur</td>\n",
       "    </tr>\n",
       "    <tr>\n",
       "      <th>7</th>\n",
       "      <td>Pune</td>\n",
       "      <td>Ajmer</td>\n",
       "    </tr>\n",
       "    <tr>\n",
       "      <th>8</th>\n",
       "      <td>Surat</td>\n",
       "      <td>NaN</td>\n",
       "    </tr>\n",
       "  </tbody>\n",
       "</table>\n",
       "</div>"
      ],
      "text/plain": [
       "  Metrio City non-metro cities\n",
       "0      Mumbai         Dehradun\n",
       "1       Delhi         Durgapur\n",
       "2     Kolkata          Asansol\n",
       "3     Chennai         Rourkela\n",
       "4   Bangalore        Kozhikode\n",
       "5   Hyderabad  Rajpur Sonarpur\n",
       "6   Ahmedabad         Kolhapur\n",
       "7        Pune            Ajmer\n",
       "8       Surat              NaN"
      ]
     },
     "execution_count": 154,
     "metadata": {},
     "output_type": "execute_result"
    }
   ],
   "source": [
    "cities"
   ]
  },
  {
   "cell_type": "code",
   "execution_count": 155,
   "id": "6a8e2886",
   "metadata": {},
   "outputs": [],
   "source": [
    "cities.rename(columns={'Metrio City':'Metrio_City','non-metro cities':'non_metro_cities'},inplace=True)"
   ]
  },
  {
   "cell_type": "code",
   "execution_count": 156,
   "id": "898bf6a7",
   "metadata": {},
   "outputs": [],
   "source": [
    "Metrio_City=cities['Metrio_City'].tolist()\n",
    "non_metro_cities=cities['non_metro_cities'].tolist()\n"
   ]
  },
  {
   "cell_type": "code",
   "execution_count": 157,
   "id": "5475fc96",
   "metadata": {},
   "outputs": [],
   "source": [
    "for item in df1.City:\n",
    "    if item in Metrio_City:\n",
    "        df1[\"City\"].replace(item,0,inplace=True)\n",
    "    elif item in non_metro_cities:\n",
    "        df1[\"City\"].replace(item,1,inplace=True)"
   ]
  },
  {
   "cell_type": "code",
   "execution_count": 158,
   "id": "aa3bd631",
   "metadata": {},
   "outputs": [
    {
     "data": {
      "text/html": [
       "<div>\n",
       "<style scoped>\n",
       "    .dataframe tbody tr th:only-of-type {\n",
       "        vertical-align: middle;\n",
       "    }\n",
       "\n",
       "    .dataframe tbody tr th {\n",
       "        vertical-align: top;\n",
       "    }\n",
       "\n",
       "    .dataframe thead th {\n",
       "        text-align: right;\n",
       "    }\n",
       "</style>\n",
       "<table border=\"1\" class=\"dataframe\">\n",
       "  <thead>\n",
       "    <tr style=\"text-align: right;\">\n",
       "      <th></th>\n",
       "      <th>College</th>\n",
       "      <th>City</th>\n",
       "      <th>Role</th>\n",
       "      <th>Previous CTC</th>\n",
       "      <th>Previous job change</th>\n",
       "      <th>Graduation Marks</th>\n",
       "      <th>EXP (Month)</th>\n",
       "      <th>CTC</th>\n",
       "    </tr>\n",
       "  </thead>\n",
       "  <tbody>\n",
       "    <tr>\n",
       "      <th>0</th>\n",
       "      <td>2</td>\n",
       "      <td>1</td>\n",
       "      <td>Manager</td>\n",
       "      <td>55523.0</td>\n",
       "      <td>3</td>\n",
       "      <td>66</td>\n",
       "      <td>19</td>\n",
       "      <td>71406.58</td>\n",
       "    </tr>\n",
       "    <tr>\n",
       "      <th>1</th>\n",
       "      <td>2</td>\n",
       "      <td>1</td>\n",
       "      <td>Executive</td>\n",
       "      <td>57081.0</td>\n",
       "      <td>1</td>\n",
       "      <td>84</td>\n",
       "      <td>18</td>\n",
       "      <td>68005.87</td>\n",
       "    </tr>\n",
       "    <tr>\n",
       "      <th>2</th>\n",
       "      <td>3</td>\n",
       "      <td>1</td>\n",
       "      <td>Executive</td>\n",
       "      <td>60347.0</td>\n",
       "      <td>2</td>\n",
       "      <td>52</td>\n",
       "      <td>28</td>\n",
       "      <td>76764.02</td>\n",
       "    </tr>\n",
       "    <tr>\n",
       "      <th>3</th>\n",
       "      <td>3</td>\n",
       "      <td>1</td>\n",
       "      <td>Executive</td>\n",
       "      <td>49010.0</td>\n",
       "      <td>2</td>\n",
       "      <td>81</td>\n",
       "      <td>33</td>\n",
       "      <td>82092.39</td>\n",
       "    </tr>\n",
       "    <tr>\n",
       "      <th>4</th>\n",
       "      <td>1</td>\n",
       "      <td>1</td>\n",
       "      <td>Executive</td>\n",
       "      <td>57879.0</td>\n",
       "      <td>4</td>\n",
       "      <td>74</td>\n",
       "      <td>32</td>\n",
       "      <td>73878.10</td>\n",
       "    </tr>\n",
       "  </tbody>\n",
       "</table>\n",
       "</div>"
      ],
      "text/plain": [
       "   College  City       Role  Previous CTC  Previous job change  \\\n",
       "0        2     1    Manager       55523.0                    3   \n",
       "1        2     1  Executive       57081.0                    1   \n",
       "2        3     1  Executive       60347.0                    2   \n",
       "3        3     1  Executive       49010.0                    2   \n",
       "4        1     1  Executive       57879.0                    4   \n",
       "\n",
       "   Graduation Marks  EXP (Month)       CTC  \n",
       "0                66           19  71406.58  \n",
       "1                84           18  68005.87  \n",
       "2                52           28  76764.02  \n",
       "3                81           33  82092.39  \n",
       "4                74           32  73878.10  "
      ]
     },
     "execution_count": 158,
     "metadata": {},
     "output_type": "execute_result"
    }
   ],
   "source": [
    "df1.head()"
   ]
  },
  {
   "cell_type": "markdown",
   "id": "dea9be49",
   "metadata": {},
   "source": [
    "# Dummy Variable Creation"
   ]
  },
  {
   "cell_type": "code",
   "execution_count": 159,
   "id": "ac939844",
   "metadata": {},
   "outputs": [],
   "source": [
    "df1.rename(columns={'EXP (Month)':'EXP_Month','Previous CTC':'Previous_CTC','Previous job change':'Previous_job_change','Graduation Marks':'Graduation_Marks'},inplace=True)"
   ]
  },
  {
   "cell_type": "code",
   "execution_count": 160,
   "id": "d97a6f27",
   "metadata": {},
   "outputs": [],
   "source": [
    "df1=pd.get_dummies(df1,drop_first=True)"
   ]
  },
  {
   "cell_type": "code",
   "execution_count": 161,
   "id": "842cf837",
   "metadata": {},
   "outputs": [
    {
     "data": {
      "text/html": [
       "<div>\n",
       "<style scoped>\n",
       "    .dataframe tbody tr th:only-of-type {\n",
       "        vertical-align: middle;\n",
       "    }\n",
       "\n",
       "    .dataframe tbody tr th {\n",
       "        vertical-align: top;\n",
       "    }\n",
       "\n",
       "    .dataframe thead th {\n",
       "        text-align: right;\n",
       "    }\n",
       "</style>\n",
       "<table border=\"1\" class=\"dataframe\">\n",
       "  <thead>\n",
       "    <tr style=\"text-align: right;\">\n",
       "      <th></th>\n",
       "      <th>College</th>\n",
       "      <th>City</th>\n",
       "      <th>Previous_CTC</th>\n",
       "      <th>Previous_job_change</th>\n",
       "      <th>Graduation_Marks</th>\n",
       "      <th>EXP_Month</th>\n",
       "      <th>CTC</th>\n",
       "      <th>Role_Manager</th>\n",
       "    </tr>\n",
       "  </thead>\n",
       "  <tbody>\n",
       "    <tr>\n",
       "      <th>0</th>\n",
       "      <td>2</td>\n",
       "      <td>1</td>\n",
       "      <td>55523.0</td>\n",
       "      <td>3</td>\n",
       "      <td>66</td>\n",
       "      <td>19</td>\n",
       "      <td>71406.58</td>\n",
       "      <td>1</td>\n",
       "    </tr>\n",
       "    <tr>\n",
       "      <th>1</th>\n",
       "      <td>2</td>\n",
       "      <td>1</td>\n",
       "      <td>57081.0</td>\n",
       "      <td>1</td>\n",
       "      <td>84</td>\n",
       "      <td>18</td>\n",
       "      <td>68005.87</td>\n",
       "      <td>0</td>\n",
       "    </tr>\n",
       "    <tr>\n",
       "      <th>2</th>\n",
       "      <td>3</td>\n",
       "      <td>1</td>\n",
       "      <td>60347.0</td>\n",
       "      <td>2</td>\n",
       "      <td>52</td>\n",
       "      <td>28</td>\n",
       "      <td>76764.02</td>\n",
       "      <td>0</td>\n",
       "    </tr>\n",
       "    <tr>\n",
       "      <th>3</th>\n",
       "      <td>3</td>\n",
       "      <td>1</td>\n",
       "      <td>49010.0</td>\n",
       "      <td>2</td>\n",
       "      <td>81</td>\n",
       "      <td>33</td>\n",
       "      <td>82092.39</td>\n",
       "      <td>0</td>\n",
       "    </tr>\n",
       "    <tr>\n",
       "      <th>4</th>\n",
       "      <td>1</td>\n",
       "      <td>1</td>\n",
       "      <td>57879.0</td>\n",
       "      <td>4</td>\n",
       "      <td>74</td>\n",
       "      <td>32</td>\n",
       "      <td>73878.10</td>\n",
       "      <td>0</td>\n",
       "    </tr>\n",
       "  </tbody>\n",
       "</table>\n",
       "</div>"
      ],
      "text/plain": [
       "   College  City  Previous_CTC  Previous_job_change  Graduation_Marks  \\\n",
       "0        2     1       55523.0                    3                66   \n",
       "1        2     1       57081.0                    1                84   \n",
       "2        3     1       60347.0                    2                52   \n",
       "3        3     1       49010.0                    2                81   \n",
       "4        1     1       57879.0                    4                74   \n",
       "\n",
       "   EXP_Month       CTC  Role_Manager  \n",
       "0         19  71406.58             1  \n",
       "1         18  68005.87             0  \n",
       "2         28  76764.02             0  \n",
       "3         33  82092.39             0  \n",
       "4         32  73878.10             0  "
      ]
     },
     "execution_count": 161,
     "metadata": {},
     "output_type": "execute_result"
    }
   ],
   "source": [
    "df1.head()"
   ]
  },
  {
   "cell_type": "code",
   "execution_count": 162,
   "id": "63d14981",
   "metadata": {},
   "outputs": [
    {
     "data": {
      "text/html": [
       "<div>\n",
       "<style scoped>\n",
       "    .dataframe tbody tr th:only-of-type {\n",
       "        vertical-align: middle;\n",
       "    }\n",
       "\n",
       "    .dataframe tbody tr th {\n",
       "        vertical-align: top;\n",
       "    }\n",
       "\n",
       "    .dataframe thead th {\n",
       "        text-align: right;\n",
       "    }\n",
       "</style>\n",
       "<table border=\"1\" class=\"dataframe\">\n",
       "  <thead>\n",
       "    <tr style=\"text-align: right;\">\n",
       "      <th></th>\n",
       "      <th>College</th>\n",
       "      <th>City</th>\n",
       "      <th>Previous_CTC</th>\n",
       "      <th>Previous_job_change</th>\n",
       "      <th>Graduation_Marks</th>\n",
       "      <th>EXP_Month</th>\n",
       "      <th>CTC</th>\n",
       "      <th>Role_Manager</th>\n",
       "    </tr>\n",
       "  </thead>\n",
       "  <tbody>\n",
       "    <tr>\n",
       "      <th>0</th>\n",
       "      <td>2</td>\n",
       "      <td>1</td>\n",
       "      <td>55523.0</td>\n",
       "      <td>3</td>\n",
       "      <td>66</td>\n",
       "      <td>19</td>\n",
       "      <td>71406.58</td>\n",
       "      <td>1</td>\n",
       "    </tr>\n",
       "    <tr>\n",
       "      <th>1</th>\n",
       "      <td>2</td>\n",
       "      <td>1</td>\n",
       "      <td>57081.0</td>\n",
       "      <td>1</td>\n",
       "      <td>84</td>\n",
       "      <td>18</td>\n",
       "      <td>68005.87</td>\n",
       "      <td>0</td>\n",
       "    </tr>\n",
       "    <tr>\n",
       "      <th>2</th>\n",
       "      <td>3</td>\n",
       "      <td>1</td>\n",
       "      <td>60347.0</td>\n",
       "      <td>2</td>\n",
       "      <td>52</td>\n",
       "      <td>28</td>\n",
       "      <td>76764.02</td>\n",
       "      <td>0</td>\n",
       "    </tr>\n",
       "    <tr>\n",
       "      <th>3</th>\n",
       "      <td>3</td>\n",
       "      <td>1</td>\n",
       "      <td>49010.0</td>\n",
       "      <td>2</td>\n",
       "      <td>81</td>\n",
       "      <td>33</td>\n",
       "      <td>82092.39</td>\n",
       "      <td>0</td>\n",
       "    </tr>\n",
       "    <tr>\n",
       "      <th>4</th>\n",
       "      <td>1</td>\n",
       "      <td>1</td>\n",
       "      <td>57879.0</td>\n",
       "      <td>4</td>\n",
       "      <td>74</td>\n",
       "      <td>32</td>\n",
       "      <td>73878.10</td>\n",
       "      <td>0</td>\n",
       "    </tr>\n",
       "  </tbody>\n",
       "</table>\n",
       "</div>"
      ],
      "text/plain": [
       "   College  City  Previous_CTC  Previous_job_change  Graduation_Marks  \\\n",
       "0        2     1       55523.0                    3                66   \n",
       "1        2     1       57081.0                    1                84   \n",
       "2        3     1       60347.0                    2                52   \n",
       "3        3     1       49010.0                    2                81   \n",
       "4        1     1       57879.0                    4                74   \n",
       "\n",
       "   EXP_Month       CTC  Role_Manager  \n",
       "0         19  71406.58             1  \n",
       "1         18  68005.87             0  \n",
       "2         28  76764.02             0  \n",
       "3         33  82092.39             0  \n",
       "4         32  73878.10             0  "
      ]
     },
     "execution_count": 162,
     "metadata": {},
     "output_type": "execute_result"
    }
   ],
   "source": [
    "df1.head()"
   ]
  },
  {
   "cell_type": "code",
   "execution_count": 163,
   "id": "5d4c46f1",
   "metadata": {},
   "outputs": [
    {
     "data": {
      "text/plain": [
       "(1589, 8)"
      ]
     },
     "execution_count": 163,
     "metadata": {},
     "output_type": "execute_result"
    }
   ],
   "source": [
    "df1.shape"
   ]
  },
  {
   "cell_type": "code",
   "execution_count": 164,
   "id": "dce8163c",
   "metadata": {},
   "outputs": [],
   "source": [
    "#EDD"
   ]
  },
  {
   "cell_type": "code",
   "execution_count": 165,
   "id": "1ace1cfa",
   "metadata": {},
   "outputs": [
    {
     "data": {
      "text/html": [
       "<div>\n",
       "<style scoped>\n",
       "    .dataframe tbody tr th:only-of-type {\n",
       "        vertical-align: middle;\n",
       "    }\n",
       "\n",
       "    .dataframe tbody tr th {\n",
       "        vertical-align: top;\n",
       "    }\n",
       "\n",
       "    .dataframe thead th {\n",
       "        text-align: right;\n",
       "    }\n",
       "</style>\n",
       "<table border=\"1\" class=\"dataframe\">\n",
       "  <thead>\n",
       "    <tr style=\"text-align: right;\">\n",
       "      <th></th>\n",
       "      <th>College</th>\n",
       "      <th>City</th>\n",
       "      <th>Previous_CTC</th>\n",
       "      <th>Previous_job_change</th>\n",
       "      <th>Graduation_Marks</th>\n",
       "      <th>EXP_Month</th>\n",
       "      <th>CTC</th>\n",
       "      <th>Role_Manager</th>\n",
       "    </tr>\n",
       "  </thead>\n",
       "  <tbody>\n",
       "    <tr>\n",
       "      <th>count</th>\n",
       "      <td>1589.000000</td>\n",
       "      <td>1589.000000</td>\n",
       "      <td>1589.000000</td>\n",
       "      <td>1589.000000</td>\n",
       "      <td>1589.000000</td>\n",
       "      <td>1589.000000</td>\n",
       "      <td>1589.000000</td>\n",
       "      <td>1589.000000</td>\n",
       "    </tr>\n",
       "    <tr>\n",
       "      <th>mean</th>\n",
       "      <td>1.975456</td>\n",
       "      <td>0.485840</td>\n",
       "      <td>55518.453744</td>\n",
       "      <td>2.528634</td>\n",
       "      <td>59.855255</td>\n",
       "      <td>39.044682</td>\n",
       "      <td>75353.278798</td>\n",
       "      <td>0.206419</td>\n",
       "    </tr>\n",
       "    <tr>\n",
       "      <th>std</th>\n",
       "      <td>0.838330</td>\n",
       "      <td>0.499957</td>\n",
       "      <td>6655.218445</td>\n",
       "      <td>1.123918</td>\n",
       "      <td>14.935139</td>\n",
       "      <td>14.108875</td>\n",
       "      <td>12587.288237</td>\n",
       "      <td>0.404862</td>\n",
       "    </tr>\n",
       "    <tr>\n",
       "      <th>min</th>\n",
       "      <td>1.000000</td>\n",
       "      <td>0.000000</td>\n",
       "      <td>36990.000000</td>\n",
       "      <td>1.000000</td>\n",
       "      <td>35.000000</td>\n",
       "      <td>18.000000</td>\n",
       "      <td>53020.320000</td>\n",
       "      <td>0.000000</td>\n",
       "    </tr>\n",
       "    <tr>\n",
       "      <th>25%</th>\n",
       "      <td>1.000000</td>\n",
       "      <td>0.000000</td>\n",
       "      <td>50518.000000</td>\n",
       "      <td>2.000000</td>\n",
       "      <td>46.000000</td>\n",
       "      <td>26.000000</td>\n",
       "      <td>66902.350000</td>\n",
       "      <td>0.000000</td>\n",
       "    </tr>\n",
       "    <tr>\n",
       "      <th>50%</th>\n",
       "      <td>2.000000</td>\n",
       "      <td>0.000000</td>\n",
       "      <td>55291.000000</td>\n",
       "      <td>3.000000</td>\n",
       "      <td>60.000000</td>\n",
       "      <td>39.000000</td>\n",
       "      <td>73028.670000</td>\n",
       "      <td>0.000000</td>\n",
       "    </tr>\n",
       "    <tr>\n",
       "      <th>75%</th>\n",
       "      <td>3.000000</td>\n",
       "      <td>1.000000</td>\n",
       "      <td>60109.000000</td>\n",
       "      <td>4.000000</td>\n",
       "      <td>73.000000</td>\n",
       "      <td>51.000000</td>\n",
       "      <td>80588.670000</td>\n",
       "      <td>0.000000</td>\n",
       "    </tr>\n",
       "    <tr>\n",
       "      <th>max</th>\n",
       "      <td>3.000000</td>\n",
       "      <td>1.000000</td>\n",
       "      <td>77911.000000</td>\n",
       "      <td>4.000000</td>\n",
       "      <td>85.000000</td>\n",
       "      <td>64.000000</td>\n",
       "      <td>123416.990000</td>\n",
       "      <td>1.000000</td>\n",
       "    </tr>\n",
       "  </tbody>\n",
       "</table>\n",
       "</div>"
      ],
      "text/plain": [
       "           College         City  Previous_CTC  Previous_job_change  \\\n",
       "count  1589.000000  1589.000000   1589.000000          1589.000000   \n",
       "mean      1.975456     0.485840  55518.453744             2.528634   \n",
       "std       0.838330     0.499957   6655.218445             1.123918   \n",
       "min       1.000000     0.000000  36990.000000             1.000000   \n",
       "25%       1.000000     0.000000  50518.000000             2.000000   \n",
       "50%       2.000000     0.000000  55291.000000             3.000000   \n",
       "75%       3.000000     1.000000  60109.000000             4.000000   \n",
       "max       3.000000     1.000000  77911.000000             4.000000   \n",
       "\n",
       "       Graduation_Marks    EXP_Month            CTC  Role_Manager  \n",
       "count       1589.000000  1589.000000    1589.000000   1589.000000  \n",
       "mean          59.855255    39.044682   75353.278798      0.206419  \n",
       "std           14.935139    14.108875   12587.288237      0.404862  \n",
       "min           35.000000    18.000000   53020.320000      0.000000  \n",
       "25%           46.000000    26.000000   66902.350000      0.000000  \n",
       "50%           60.000000    39.000000   73028.670000      0.000000  \n",
       "75%           73.000000    51.000000   80588.670000      0.000000  \n",
       "max           85.000000    64.000000  123416.990000      1.000000  "
      ]
     },
     "execution_count": 165,
     "metadata": {},
     "output_type": "execute_result"
    }
   ],
   "source": [
    "df1.describe()"
   ]
  },
  {
   "cell_type": "code",
   "execution_count": 166,
   "id": "6ae1e30b",
   "metadata": {},
   "outputs": [
    {
     "data": {
      "text/plain": [
       "<seaborn.axisgrid.JointGrid at 0x275d7cd4fd0>"
      ]
     },
     "execution_count": 166,
     "metadata": {},
     "output_type": "execute_result"
    },
    {
     "data": {
      "image/png": "[encoded data removed]",
      "text/plain": [
       "<Figure size 600x600 with 3 Axes>"
      ]
     },
     "metadata": {},
     "output_type": "display_data"
    }
   ],
   "source": [
    "sns.jointplot(x='College',y='CTC',data=df1)"
   ]
  },
  {
   "cell_type": "code",
   "execution_count": 167,
   "id": "a3e58a90",
   "metadata": {},
   "outputs": [
    {
     "data": {
      "text/plain": [
       "<seaborn.axisgrid.JointGrid at 0x275d7f45d30>"
      ]
     },
     "execution_count": 167,
     "metadata": {},
     "output_type": "execute_result"
    },
    {
     "data": {
      "image/png": "[encoded data removed]",
      "text/plain": [
       "<Figure size 600x600 with 3 Axes>"
      ]
     },
     "metadata": {},
     "output_type": "display_data"
    }
   ],
   "source": [
    "sns.jointplot(x='EXP_Month',y='CTC',data=df1)"
   ]
  },
  {
   "cell_type": "code",
   "execution_count": 168,
   "id": "d70345b8",
   "metadata": {},
   "outputs": [
    {
     "data": {
      "text/plain": [
       "<seaborn.axisgrid.JointGrid at 0x275d7f1daf0>"
      ]
     },
     "execution_count": 168,
     "metadata": {},
     "output_type": "execute_result"
    },
    {
     "data": {
      "image/png": "[encoded data removed]",
      "text/plain": [
       "<Figure size 600x600 with 3 Axes>"
      ]
     },
     "metadata": {},
     "output_type": "display_data"
    }
   ],
   "source": [
    "sns.jointplot(x='Previous_CTC',y='CTC',data=df1)"
   ]
  },
  {
   "cell_type": "markdown",
   "id": "d08d0372",
   "metadata": {},
   "source": [
    "# Checking Null Values"
   ]
  },
  {
   "cell_type": "code",
   "execution_count": 169,
   "id": "9b7b7ad7",
   "metadata": {},
   "outputs": [
    {
     "name": "stdout",
     "output_type": "stream",
     "text": [
      "<class 'pandas.core.frame.DataFrame'>\n",
      "RangeIndex: 1589 entries, 0 to 1588\n",
      "Data columns (total 8 columns):\n",
      " #   Column               Non-Null Count  Dtype  \n",
      "---  ------               --------------  -----  \n",
      " 0   College              1589 non-null   int64  \n",
      " 1   City                 1589 non-null   int64  \n",
      " 2   Previous_CTC         1589 non-null   float64\n",
      " 3   Previous_job_change  1589 non-null   int64  \n",
      " 4   Graduation_Marks     1589 non-null   int64  \n",
      " 5   EXP_Month            1589 non-null   int64  \n",
      " 6   CTC                  1589 non-null   float64\n",
      " 7   Role_Manager         1589 non-null   uint8  \n",
      "dtypes: float64(2), int64(5), uint8(1)\n",
      "memory usage: 88.6 KB\n"
     ]
    }
   ],
   "source": [
    "df1.info()"
   ]
  },
  {
   "cell_type": "markdown",
   "id": "c73c09ea",
   "metadata": {},
   "source": [
    "# Linear Regresion"
   ]
  },
  {
   "cell_type": "code",
   "execution_count": 170,
   "id": "38c70305",
   "metadata": {},
   "outputs": [],
   "source": [
    "X_multi=df1.drop('CTC',axis=1)"
   ]
  },
  {
   "cell_type": "code",
   "execution_count": 171,
   "id": "b04c839b",
   "metadata": {},
   "outputs": [
    {
     "data": {
      "text/html": [
       "<div>\n",
       "<style scoped>\n",
       "    .dataframe tbody tr th:only-of-type {\n",
       "        vertical-align: middle;\n",
       "    }\n",
       "\n",
       "    .dataframe tbody tr th {\n",
       "        vertical-align: top;\n",
       "    }\n",
       "\n",
       "    .dataframe thead th {\n",
       "        text-align: right;\n",
       "    }\n",
       "</style>\n",
       "<table border=\"1\" class=\"dataframe\">\n",
       "  <thead>\n",
       "    <tr style=\"text-align: right;\">\n",
       "      <th></th>\n",
       "      <th>College</th>\n",
       "      <th>City</th>\n",
       "      <th>Previous_CTC</th>\n",
       "      <th>Previous_job_change</th>\n",
       "      <th>Graduation_Marks</th>\n",
       "      <th>EXP_Month</th>\n",
       "      <th>Role_Manager</th>\n",
       "    </tr>\n",
       "  </thead>\n",
       "  <tbody>\n",
       "    <tr>\n",
       "      <th>0</th>\n",
       "      <td>2</td>\n",
       "      <td>1</td>\n",
       "      <td>55523.0</td>\n",
       "      <td>3</td>\n",
       "      <td>66</td>\n",
       "      <td>19</td>\n",
       "      <td>1</td>\n",
       "    </tr>\n",
       "    <tr>\n",
       "      <th>1</th>\n",
       "      <td>2</td>\n",
       "      <td>1</td>\n",
       "      <td>57081.0</td>\n",
       "      <td>1</td>\n",
       "      <td>84</td>\n",
       "      <td>18</td>\n",
       "      <td>0</td>\n",
       "    </tr>\n",
       "    <tr>\n",
       "      <th>2</th>\n",
       "      <td>3</td>\n",
       "      <td>1</td>\n",
       "      <td>60347.0</td>\n",
       "      <td>2</td>\n",
       "      <td>52</td>\n",
       "      <td>28</td>\n",
       "      <td>0</td>\n",
       "    </tr>\n",
       "    <tr>\n",
       "      <th>3</th>\n",
       "      <td>3</td>\n",
       "      <td>1</td>\n",
       "      <td>49010.0</td>\n",
       "      <td>2</td>\n",
       "      <td>81</td>\n",
       "      <td>33</td>\n",
       "      <td>0</td>\n",
       "    </tr>\n",
       "    <tr>\n",
       "      <th>4</th>\n",
       "      <td>1</td>\n",
       "      <td>1</td>\n",
       "      <td>57879.0</td>\n",
       "      <td>4</td>\n",
       "      <td>74</td>\n",
       "      <td>32</td>\n",
       "      <td>0</td>\n",
       "    </tr>\n",
       "  </tbody>\n",
       "</table>\n",
       "</div>"
      ],
      "text/plain": [
       "   College  City  Previous_CTC  Previous_job_change  Graduation_Marks  \\\n",
       "0        2     1       55523.0                    3                66   \n",
       "1        2     1       57081.0                    1                84   \n",
       "2        3     1       60347.0                    2                52   \n",
       "3        3     1       49010.0                    2                81   \n",
       "4        1     1       57879.0                    4                74   \n",
       "\n",
       "   EXP_Month  Role_Manager  \n",
       "0         19             1  \n",
       "1         18             0  \n",
       "2         28             0  \n",
       "3         33             0  \n",
       "4         32             0  "
      ]
     },
     "execution_count": 171,
     "metadata": {},
     "output_type": "execute_result"
    }
   ],
   "source": [
    "X_multi.head()  #Dependent Variable"
   ]
  },
  {
   "cell_type": "code",
   "execution_count": 172,
   "id": "8ce186c8",
   "metadata": {},
   "outputs": [],
   "source": [
    "y_multi=df1['CTC']"
   ]
  },
  {
   "cell_type": "code",
   "execution_count": 173,
   "id": "d6f4db4f",
   "metadata": {},
   "outputs": [
    {
     "data": {
      "text/plain": [
       "0    71406.58\n",
       "1    68005.87\n",
       "2    76764.02\n",
       "3    82092.39\n",
       "4    73878.10\n",
       "Name: CTC, dtype: float64"
      ]
     },
     "execution_count": 173,
     "metadata": {},
     "output_type": "execute_result"
    }
   ],
   "source": [
    "y_multi.head()"
   ]
  },
  {
   "cell_type": "code",
   "execution_count": 174,
   "id": "0f19b707",
   "metadata": {},
   "outputs": [],
   "source": [
    "import statsmodels.api as sn"
   ]
  },
  {
   "cell_type": "code",
   "execution_count": 175,
   "id": "429262d6",
   "metadata": {},
   "outputs": [],
   "source": [
    "x_multi_cons=sn.add_constant(X_multi)"
   ]
  },
  {
   "cell_type": "code",
   "execution_count": 176,
   "id": "c392e10a",
   "metadata": {},
   "outputs": [
    {
     "data": {
      "text/html": [
       "<div>\n",
       "<style scoped>\n",
       "    .dataframe tbody tr th:only-of-type {\n",
       "        vertical-align: middle;\n",
       "    }\n",
       "\n",
       "    .dataframe tbody tr th {\n",
       "        vertical-align: top;\n",
       "    }\n",
       "\n",
       "    .dataframe thead th {\n",
       "        text-align: right;\n",
       "    }\n",
       "</style>\n",
       "<table border=\"1\" class=\"dataframe\">\n",
       "  <thead>\n",
       "    <tr style=\"text-align: right;\">\n",
       "      <th></th>\n",
       "      <th>const</th>\n",
       "      <th>College</th>\n",
       "      <th>City</th>\n",
       "      <th>Previous_CTC</th>\n",
       "      <th>Previous_job_change</th>\n",
       "      <th>Graduation_Marks</th>\n",
       "      <th>EXP_Month</th>\n",
       "      <th>Role_Manager</th>\n",
       "    </tr>\n",
       "  </thead>\n",
       "  <tbody>\n",
       "    <tr>\n",
       "      <th>0</th>\n",
       "      <td>1.0</td>\n",
       "      <td>2</td>\n",
       "      <td>1</td>\n",
       "      <td>55523.0</td>\n",
       "      <td>3</td>\n",
       "      <td>66</td>\n",
       "      <td>19</td>\n",
       "      <td>1</td>\n",
       "    </tr>\n",
       "    <tr>\n",
       "      <th>1</th>\n",
       "      <td>1.0</td>\n",
       "      <td>2</td>\n",
       "      <td>1</td>\n",
       "      <td>57081.0</td>\n",
       "      <td>1</td>\n",
       "      <td>84</td>\n",
       "      <td>18</td>\n",
       "      <td>0</td>\n",
       "    </tr>\n",
       "    <tr>\n",
       "      <th>2</th>\n",
       "      <td>1.0</td>\n",
       "      <td>3</td>\n",
       "      <td>1</td>\n",
       "      <td>60347.0</td>\n",
       "      <td>2</td>\n",
       "      <td>52</td>\n",
       "      <td>28</td>\n",
       "      <td>0</td>\n",
       "    </tr>\n",
       "    <tr>\n",
       "      <th>3</th>\n",
       "      <td>1.0</td>\n",
       "      <td>3</td>\n",
       "      <td>1</td>\n",
       "      <td>49010.0</td>\n",
       "      <td>2</td>\n",
       "      <td>81</td>\n",
       "      <td>33</td>\n",
       "      <td>0</td>\n",
       "    </tr>\n",
       "    <tr>\n",
       "      <th>4</th>\n",
       "      <td>1.0</td>\n",
       "      <td>1</td>\n",
       "      <td>1</td>\n",
       "      <td>57879.0</td>\n",
       "      <td>4</td>\n",
       "      <td>74</td>\n",
       "      <td>32</td>\n",
       "      <td>0</td>\n",
       "    </tr>\n",
       "  </tbody>\n",
       "</table>\n",
       "</div>"
      ],
      "text/plain": [
       "   const  College  City  Previous_CTC  Previous_job_change  Graduation_Marks  \\\n",
       "0    1.0        2     1       55523.0                    3                66   \n",
       "1    1.0        2     1       57081.0                    1                84   \n",
       "2    1.0        3     1       60347.0                    2                52   \n",
       "3    1.0        3     1       49010.0                    2                81   \n",
       "4    1.0        1     1       57879.0                    4                74   \n",
       "\n",
       "   EXP_Month  Role_Manager  \n",
       "0         19             1  \n",
       "1         18             0  \n",
       "2         28             0  \n",
       "3         33             0  \n",
       "4         32             0  "
      ]
     },
     "execution_count": 176,
     "metadata": {},
     "output_type": "execute_result"
    }
   ],
   "source": [
    "x_multi_cons.head()"
   ]
  },
  {
   "cell_type": "code",
   "execution_count": 177,
   "id": "5fe16c27",
   "metadata": {},
   "outputs": [],
   "source": [
    "lm_multi= sn.OLS(y_multi,x_multi_cons).fit()"
   ]
  },
  {
   "cell_type": "code",
   "execution_count": 178,
   "id": "84c05bd4",
   "metadata": {},
   "outputs": [
    {
     "data": {
      "text/html": [
       "<table class=\"simpletable\">\n",
       "<caption>OLS Regression Results</caption>\n",
       "<tr>\n",
       "  <th>Dep. Variable:</th>           <td>CTC</td>       <th>  R-squared:         </th> <td>   0.534</td> \n",
       "</tr>\n",
       "<tr>\n",
       "  <th>Model:</th>                   <td>OLS</td>       <th>  Adj. R-squared:    </th> <td>   0.532</td> \n",
       "</tr>\n",
       "<tr>\n",
       "  <th>Method:</th>             <td>Least Squares</td>  <th>  F-statistic:       </th> <td>   259.1</td> \n",
       "</tr>\n",
       "<tr>\n",
       "  <th>Date:</th>             <td>Sun, 13 Aug 2023</td> <th>  Prob (F-statistic):</th> <td>4.70e-257</td>\n",
       "</tr>\n",
       "<tr>\n",
       "  <th>Time:</th>                 <td>20:51:50</td>     <th>  Log-Likelihood:    </th> <td> -16648.</td> \n",
       "</tr>\n",
       "<tr>\n",
       "  <th>No. Observations:</th>      <td>  1589</td>      <th>  AIC:               </th> <td>3.331e+04</td>\n",
       "</tr>\n",
       "<tr>\n",
       "  <th>Df Residuals:</th>          <td>  1581</td>      <th>  BIC:               </th> <td>3.335e+04</td>\n",
       "</tr>\n",
       "<tr>\n",
       "  <th>Df Model:</th>              <td>     7</td>      <th>                     </th>     <td> </td>    \n",
       "</tr>\n",
       "<tr>\n",
       "  <th>Covariance Type:</th>      <td>nonrobust</td>    <th>                     </th>     <td> </td>    \n",
       "</tr>\n",
       "</table>\n",
       "<table class=\"simpletable\">\n",
       "<tr>\n",
       "           <td></td>              <th>coef</th>     <th>std err</th>      <th>t</th>      <th>P>|t|</th>  <th>[0.025</th>    <th>0.975]</th>  \n",
       "</tr>\n",
       "<tr>\n",
       "  <th>const</th>               <td>  3.88e+04</td> <td> 2190.177</td> <td>   17.716</td> <td> 0.000</td> <td> 3.45e+04</td> <td> 4.31e+04</td>\n",
       "</tr>\n",
       "<tr>\n",
       "  <th>College</th>             <td> -481.5147</td> <td>  258.382</td> <td>   -1.864</td> <td> 0.063</td> <td> -988.321</td> <td>   25.292</td>\n",
       "</tr>\n",
       "<tr>\n",
       "  <th>City</th>                <td> -380.8308</td> <td>  433.455</td> <td>   -0.879</td> <td> 0.380</td> <td>-1231.039</td> <td>  469.377</td>\n",
       "</tr>\n",
       "<tr>\n",
       "  <th>Previous_CTC</th>        <td>    0.4101</td> <td>    0.033</td> <td>   12.526</td> <td> 0.000</td> <td>    0.346</td> <td>    0.474</td>\n",
       "</tr>\n",
       "<tr>\n",
       "  <th>Previous_job_change</th> <td>  126.5653</td> <td>  192.887</td> <td>    0.656</td> <td> 0.512</td> <td> -251.776</td> <td>  504.906</td>\n",
       "</tr>\n",
       "<tr>\n",
       "  <th>Graduation_Marks</th>    <td>    6.2362</td> <td>   14.502</td> <td>    0.430</td> <td> 0.667</td> <td>  -22.208</td> <td>   34.681</td>\n",
       "</tr>\n",
       "<tr>\n",
       "  <th>EXP_Month</th>           <td>  261.3444</td> <td>   15.460</td> <td>   16.904</td> <td> 0.000</td> <td>  231.020</td> <td>  291.669</td>\n",
       "</tr>\n",
       "<tr>\n",
       "  <th>Role_Manager</th>        <td> 1.949e+04</td> <td>  534.694</td> <td>   36.446</td> <td> 0.000</td> <td> 1.84e+04</td> <td> 2.05e+04</td>\n",
       "</tr>\n",
       "</table>\n",
       "<table class=\"simpletable\">\n",
       "<tr>\n",
       "  <th>Omnibus:</th>       <td>49.726</td> <th>  Durbin-Watson:     </th> <td>   2.052</td>\n",
       "</tr>\n",
       "<tr>\n",
       "  <th>Prob(Omnibus):</th> <td> 0.000</td> <th>  Jarque-Bera (JB):  </th> <td>  55.299</td>\n",
       "</tr>\n",
       "<tr>\n",
       "  <th>Skew:</th>          <td> 0.408</td> <th>  Prob(JB):          </th> <td>9.82e-13</td>\n",
       "</tr>\n",
       "<tr>\n",
       "  <th>Kurtosis:</th>      <td> 3.411</td> <th>  Cond. No.          </th> <td>5.67e+05</td>\n",
       "</tr>\n",
       "</table><br/><br/>Notes:<br/>[1] Standard Errors assume that the covariance matrix of the errors is correctly specified.<br/>[2] The condition number is large, 5.67e+05. This might indicate that there are<br/>strong multicollinearity or other numerical problems."
      ],
      "text/plain": [
       "<class 'statsmodels.iolib.summary.Summary'>\n",
       "\"\"\"\n",
       "                            OLS Regression Results                            \n",
       "==============================================================================\n",
       "Dep. Variable:                    CTC   R-squared:                       0.534\n",
       "Model:                            OLS   Adj. R-squared:                  0.532\n",
       "Method:                 Least Squares   F-statistic:                     259.1\n",
       "Date:                Sun, 13 Aug 2023   Prob (F-statistic):          4.70e-257\n",
       "Time:                        20:51:50   Log-Likelihood:                -16648.\n",
       "No. Observations:                1589   AIC:                         3.331e+04\n",
       "Df Residuals:                    1581   BIC:                         3.335e+04\n",
       "Df Model:                           7                                         \n",
       "Covariance Type:            nonrobust                                         \n",
       "=======================================================================================\n",
       "                          coef    std err          t      P>|t|      [0.025      0.975]\n",
       "---------------------------------------------------------------------------------------\n",
       "const                 3.88e+04   2190.177     17.716      0.000    3.45e+04    4.31e+04\n",
       "College              -481.5147    258.382     -1.864      0.063    -988.321      25.292\n",
       "City                 -380.8308    433.455     -0.879      0.380   -1231.039     469.377\n",
       "Previous_CTC            0.4101      0.033     12.526      0.000       0.346       0.474\n",
       "Previous_job_change   126.5653    192.887      0.656      0.512    -251.776     504.906\n",
       "Graduation_Marks        6.2362     14.502      0.430      0.667     -22.208      34.681\n",
       "EXP_Month             261.3444     15.460     16.904      0.000     231.020     291.669\n",
       "Role_Manager         1.949e+04    534.694     36.446      0.000    1.84e+04    2.05e+04\n",
       "==============================================================================\n",
       "Omnibus:                       49.726   Durbin-Watson:                   2.052\n",
       "Prob(Omnibus):                  0.000   Jarque-Bera (JB):               55.299\n",
       "Skew:                           0.408   Prob(JB):                     9.82e-13\n",
       "Kurtosis:                       3.411   Cond. No.                     5.67e+05\n",
       "==============================================================================\n",
       "\n",
       "Notes:\n",
       "[1] Standard Errors assume that the covariance matrix of the errors is correctly specified.\n",
       "[2] The condition number is large, 5.67e+05. This might indicate that there are\n",
       "strong multicollinearity or other numerical problems.\n",
       "\"\"\""
      ]
     },
     "execution_count": 178,
     "metadata": {},
     "output_type": "execute_result"
    }
   ],
   "source": [
    "lm_multi.summary()"
   ]
  },
  {
   "cell_type": "code",
   "execution_count": 179,
   "id": "5898fcfe",
   "metadata": {},
   "outputs": [],
   "source": [
    "from sklearn.linear_model import LinearRegression\n"
   ]
  },
  {
   "cell_type": "code",
   "execution_count": 37,
   "id": "4f771cb2",
   "metadata": {},
   "outputs": [],
   "source": [
    "lm3=LinearRegression()"
   ]
  },
  {
   "cell_type": "code",
   "execution_count": 38,
   "id": "9ce3059c",
   "metadata": {},
   "outputs": [
    {
     "data": {
      "text/plain": [
       "LinearRegression()"
      ]
     },
     "execution_count": 38,
     "metadata": {},
     "output_type": "execute_result"
    }
   ],
   "source": [
    "lm3.fit(X_multi,y_multi)"
   ]
  },
  {
   "cell_type": "code",
   "execution_count": 180,
   "id": "a197c5d1",
   "metadata": {},
   "outputs": [
    {
     "name": "stdout",
     "output_type": "stream",
     "text": [
      "38801.940593728534\n"
     ]
    }
   ],
   "source": [
    "print(lm3.intercept_)"
   ]
  },
  {
   "cell_type": "code",
   "execution_count": 39,
   "id": "9a244ef4",
   "metadata": {},
   "outputs": [
    {
     "name": "stdout",
     "output_type": "stream",
     "text": [
      "38801.940593728534 [-4.81514705e+02 -3.80830787e+02  4.10090279e-01  1.26565295e+02\n",
      "  6.23621203e+00  2.61344394e+02  1.94874279e+04]\n"
     ]
    }
   ],
   "source": [
    "print(lm3.intercept_,lm3.coef_)"
   ]
  },
  {
   "cell_type": "code",
   "execution_count": 40,
   "id": "163de79c",
   "metadata": {},
   "outputs": [],
   "source": [
    "from sklearn.model_selection import train_test_split"
   ]
  },
  {
   "cell_type": "code",
   "execution_count": 41,
   "id": "484e1399",
   "metadata": {},
   "outputs": [],
   "source": [
    "X_train,X_test,y_train,y_test=train_test_split(X_multi,y_multi,test_size=0.2,random_state=0)"
   ]
  },
  {
   "cell_type": "code",
   "execution_count": 42,
   "id": "4b9851c8",
   "metadata": {},
   "outputs": [
    {
     "name": "stdout",
     "output_type": "stream",
     "text": [
      "(1271, 7) (318, 7) (1271,) (318,)\n"
     ]
    }
   ],
   "source": [
    "print(X_train.shape,X_test.shape,y_train.shape,y_test.shape)"
   ]
  },
  {
   "cell_type": "code",
   "execution_count": 43,
   "id": "9a247ccf",
   "metadata": {},
   "outputs": [],
   "source": [
    "lm_a=LinearRegression()"
   ]
  },
  {
   "cell_type": "code",
   "execution_count": 44,
   "id": "6005fb3d",
   "metadata": {},
   "outputs": [
    {
     "data": {
      "text/plain": [
       "LinearRegression()"
      ]
     },
     "execution_count": 44,
     "metadata": {},
     "output_type": "execute_result"
    }
   ],
   "source": [
    "lm_a.fit(X_train,y_train)"
   ]
  },
  {
   "cell_type": "code",
   "execution_count": 45,
   "id": "47a83c86",
   "metadata": {},
   "outputs": [],
   "source": [
    "y_test_a=lm_a.predict(X_test)"
   ]
  },
  {
   "cell_type": "code",
   "execution_count": 46,
   "id": "a2585aed",
   "metadata": {},
   "outputs": [],
   "source": [
    "y_train_a=lm_a.predict(X_train)"
   ]
  },
  {
   "cell_type": "code",
   "execution_count": 47,
   "id": "18a8936b",
   "metadata": {},
   "outputs": [
    {
     "data": {
      "text/plain": [
       "array([-3.96799551e+02, -9.32400785e+02,  4.28858057e-01,  9.82300083e+01,\n",
       "        9.94507467e+00,  2.57591989e+02,  1.92412378e+04])"
      ]
     },
     "execution_count": 47,
     "metadata": {},
     "output_type": "execute_result"
    }
   ],
   "source": [
    "coefficients = lm_a.coef_\n",
    "coefficients"
   ]
  },
  {
   "cell_type": "markdown",
   "id": "200dfe0f",
   "metadata": {},
   "source": [
    "# Calculate metrics \n"
   ]
  },
  {
   "cell_type": "code",
   "execution_count": 48,
   "id": "d396c21b",
   "metadata": {},
   "outputs": [],
   "source": [
    "from sklearn.metrics import r2_score,mean_squared_error,mean_absolute_error"
   ]
  },
  {
   "cell_type": "code",
   "execution_count": 49,
   "id": "8cfcf66d",
   "metadata": {},
   "outputs": [
    {
     "data": {
      "text/plain": [
       "0.5355989894789973"
      ]
     },
     "execution_count": 49,
     "metadata": {},
     "output_type": "execute_result"
    }
   ],
   "source": [
    "#R-squared (R2)\n",
    "r2_score(y_test,y_test_a)"
   ]
  },
  {
   "cell_type": "code",
   "execution_count": 50,
   "id": "71770ac3",
   "metadata": {},
   "outputs": [
    {
     "data": {
      "text/plain": [
       "0.5331293335456955"
      ]
     },
     "execution_count": 50,
     "metadata": {},
     "output_type": "execute_result"
    }
   ],
   "source": [
    "#R-squared (R2)\n",
    "r2_score(y_train,y_train_a)"
   ]
  },
  {
   "cell_type": "code",
   "execution_count": 51,
   "id": "6584a096",
   "metadata": {},
   "outputs": [
    {
     "data": {
      "text/plain": [
       "68909870.69952735"
      ]
     },
     "execution_count": 51,
     "metadata": {},
     "output_type": "execute_result"
    }
   ],
   "source": [
    "#mean squared error \n",
    "mse=mean_squared_error(y_test,y_test_a)\n",
    "mse"
   ]
  },
  {
   "cell_type": "code",
   "execution_count": 52,
   "id": "daed5734",
   "metadata": {},
   "outputs": [
    {
     "data": {
      "text/plain": [
       "8301.19694378632"
      ]
     },
     "execution_count": 52,
     "metadata": {},
     "output_type": "execute_result"
    }
   ],
   "source": [
    "#Root Mean Square Error \n",
    "lm_rmse=np.sqrt(mse)\n",
    "lm_rmse"
   ]
  },
  {
   "cell_type": "code",
   "execution_count": 53,
   "id": "805451ae",
   "metadata": {},
   "outputs": [
    {
     "data": {
      "text/plain": [
       "6592.541375056073"
      ]
     },
     "execution_count": 53,
     "metadata": {},
     "output_type": "execute_result"
    }
   ],
   "source": [
    "#mean_absolute_error\n",
    "mae = mean_absolute_error(y_test, y_test_a)\n",
    "mae"
   ]
  },
  {
   "cell_type": "markdown",
   "id": "d505fe26",
   "metadata": {},
   "source": [
    "# Lasso And Ridge \n"
   ]
  },
  {
   "cell_type": "code",
   "execution_count": 54,
   "id": "c4f7d2cb",
   "metadata": {},
   "outputs": [],
   "source": [
    "from sklearn import preprocessing  ### for Lasso And Ridge standerdise data"
   ]
  },
  {
   "cell_type": "code",
   "execution_count": 55,
   "id": "ea07c61f",
   "metadata": {},
   "outputs": [],
   "source": [
    "scaler=preprocessing.StandardScaler().fit(X_train)"
   ]
  },
  {
   "cell_type": "code",
   "execution_count": 56,
   "id": "3982eaeb",
   "metadata": {},
   "outputs": [],
   "source": [
    "X_train_s=scaler.transform(X_train)"
   ]
  },
  {
   "cell_type": "code",
   "execution_count": 57,
   "id": "a4e19811",
   "metadata": {},
   "outputs": [],
   "source": [
    "X_test_s=scaler.transform(X_test)"
   ]
  },
  {
   "cell_type": "markdown",
   "id": "38d63054",
   "metadata": {},
   "source": [
    "#Ridge"
   ]
  },
  {
   "cell_type": "code",
   "execution_count": 58,
   "id": "9dc9df18",
   "metadata": {},
   "outputs": [],
   "source": [
    "from sklearn.linear_model import Ridge"
   ]
  },
  {
   "cell_type": "code",
   "execution_count": 59,
   "id": "14ef3675",
   "metadata": {},
   "outputs": [
    {
     "data": {
      "text/plain": [
       "Ridge(alpha=0.5)"
      ]
     },
     "execution_count": 59,
     "metadata": {},
     "output_type": "execute_result"
    }
   ],
   "source": [
    "lm_r=Ridge(alpha= 0.5)\n",
    "lm_r.fit(X_train_s,y_train)"
   ]
  },
  {
   "cell_type": "markdown",
   "id": "975a6953",
   "metadata": {},
   "source": [
    "# Calculate metrics \n"
   ]
  },
  {
   "cell_type": "code",
   "execution_count": 60,
   "id": "667c2ff9",
   "metadata": {},
   "outputs": [
    {
     "data": {
      "text/plain": [
       "68911963.65250452"
      ]
     },
     "execution_count": 60,
     "metadata": {},
     "output_type": "execute_result"
    }
   ],
   "source": [
    "mse=mean_squared_error(y_test,lm_r.predict(X_test_s))\n",
    "mse"
   ]
  },
  {
   "cell_type": "code",
   "execution_count": 61,
   "id": "bd5641c3",
   "metadata": {},
   "outputs": [
    {
     "data": {
      "text/plain": [
       "8301.32300615417"
      ]
     },
     "execution_count": 61,
     "metadata": {},
     "output_type": "execute_result"
    }
   ],
   "source": [
    "#Root Mean Square Error \n",
    "Ridge_rmse=np.sqrt(mse)\n",
    "Ridge_rmse"
   ]
  },
  {
   "cell_type": "code",
   "execution_count": 62,
   "id": "99622169",
   "metadata": {},
   "outputs": [
    {
     "data": {
      "text/plain": [
       "6592.703838938161"
      ]
     },
     "execution_count": 62,
     "metadata": {},
     "output_type": "execute_result"
    }
   ],
   "source": [
    "#mean_absolute_error\n",
    "mae = mean_absolute_error(y_test, lm_r.predict(X_test_s))\n",
    "mae"
   ]
  },
  {
   "cell_type": "code",
   "execution_count": 63,
   "id": "13f04115",
   "metadata": {},
   "outputs": [
    {
     "data": {
      "text/plain": [
       "0.5355848845406525"
      ]
     },
     "execution_count": 63,
     "metadata": {},
     "output_type": "execute_result"
    }
   ],
   "source": [
    "r2_score(y_test,lm_r.predict(X_test_s))"
   ]
  },
  {
   "cell_type": "code",
   "execution_count": 64,
   "id": "7a415044",
   "metadata": {},
   "outputs": [],
   "source": [
    "from sklearn.model_selection import validation_curve"
   ]
  },
  {
   "cell_type": "code",
   "execution_count": 65,
   "id": "13422664",
   "metadata": {},
   "outputs": [],
   "source": [
    "param_range=np.logspace(-2,8,100)"
   ]
  },
  {
   "cell_type": "code",
   "execution_count": 66,
   "id": "b5240ef0",
   "metadata": {},
   "outputs": [
    {
     "data": {
      "text/plain": [
       "array([1.00000000e-02, 1.26185688e-02, 1.59228279e-02, 2.00923300e-02,\n",
       "       2.53536449e-02, 3.19926714e-02, 4.03701726e-02, 5.09413801e-02,\n",
       "       6.42807312e-02, 8.11130831e-02, 1.02353102e-01, 1.29154967e-01,\n",
       "       1.62975083e-01, 2.05651231e-01, 2.59502421e-01, 3.27454916e-01,\n",
       "       4.13201240e-01, 5.21400829e-01, 6.57933225e-01, 8.30217568e-01,\n",
       "       1.04761575e+00, 1.32194115e+00, 1.66810054e+00, 2.10490414e+00,\n",
       "       2.65608778e+00, 3.35160265e+00, 4.22924287e+00, 5.33669923e+00,\n",
       "       6.73415066e+00, 8.49753436e+00, 1.07226722e+01, 1.35304777e+01,\n",
       "       1.70735265e+01, 2.15443469e+01, 2.71858824e+01, 3.43046929e+01,\n",
       "       4.32876128e+01, 5.46227722e+01, 6.89261210e+01, 8.69749003e+01,\n",
       "       1.09749877e+02, 1.38488637e+02, 1.74752840e+02, 2.20513074e+02,\n",
       "       2.78255940e+02, 3.51119173e+02, 4.43062146e+02, 5.59081018e+02,\n",
       "       7.05480231e+02, 8.90215085e+02, 1.12332403e+03, 1.41747416e+03,\n",
       "       1.78864953e+03, 2.25701972e+03, 2.84803587e+03, 3.59381366e+03,\n",
       "       4.53487851e+03, 5.72236766e+03, 7.22080902e+03, 9.11162756e+03,\n",
       "       1.14975700e+04, 1.45082878e+04, 1.83073828e+04, 2.31012970e+04,\n",
       "       2.91505306e+04, 3.67837977e+04, 4.64158883e+04, 5.85702082e+04,\n",
       "       7.39072203e+04, 9.32603347e+04, 1.17681195e+05, 1.48496826e+05,\n",
       "       1.87381742e+05, 2.36448941e+05, 2.98364724e+05, 3.76493581e+05,\n",
       "       4.75081016e+05, 5.99484250e+05, 7.56463328e+05, 9.54548457e+05,\n",
       "       1.20450354e+06, 1.51991108e+06, 1.91791026e+06, 2.42012826e+06,\n",
       "       3.05385551e+06, 3.85352859e+06, 4.86260158e+06, 6.13590727e+06,\n",
       "       7.74263683e+06, 9.77009957e+06, 1.23284674e+07, 1.55567614e+07,\n",
       "       1.96304065e+07, 2.47707636e+07, 3.12571585e+07, 3.94420606e+07,\n",
       "       4.97702356e+07, 6.28029144e+07, 7.92482898e+07, 1.00000000e+08])"
      ]
     },
     "execution_count": 66,
     "metadata": {},
     "output_type": "execute_result"
    }
   ],
   "source": [
    "param_range"
   ]
  },
  {
   "cell_type": "code",
   "execution_count": 67,
   "id": "4cc96c83",
   "metadata": {},
   "outputs": [],
   "source": [
    "train_scores, test_scores = validation_curve(\n",
    "  Ridge(),\n",
    "  X_train_s, \n",
    "  y_train,\n",
    "  param_name=\"alpha\",\n",
    "  param_range=param_range,\n",
    "  scoring = \"r2\"\n",
    ")"
   ]
  },
  {
   "cell_type": "code",
   "execution_count": 68,
   "id": "81a2f031",
   "metadata": {},
   "outputs": [
    {
     "name": "stdout",
     "output_type": "stream",
     "text": [
      "[[5.26336205e-01 5.33395314e-01 5.39739989e-01 5.37993452e-01\n",
      "  5.30456031e-01]\n",
      " [5.26336205e-01 5.33395314e-01 5.39739989e-01 5.37993452e-01\n",
      "  5.30456031e-01]\n",
      " [5.26336205e-01 5.33395314e-01 5.39739989e-01 5.37993452e-01\n",
      "  5.30456031e-01]\n",
      " [5.26336205e-01 5.33395313e-01 5.39739989e-01 5.37993452e-01\n",
      "  5.30456031e-01]\n",
      " [5.26336205e-01 5.33395313e-01 5.39739989e-01 5.37993451e-01\n",
      "  5.30456031e-01]\n",
      " [5.26336205e-01 5.33395313e-01 5.39739989e-01 5.37993451e-01\n",
      "  5.30456030e-01]\n",
      " [5.26336204e-01 5.33395313e-01 5.39739988e-01 5.37993451e-01\n",
      "  5.30456030e-01]\n",
      " [5.26336204e-01 5.33395312e-01 5.39739988e-01 5.37993450e-01\n",
      "  5.30456030e-01]\n",
      " [5.26336203e-01 5.33395312e-01 5.39739987e-01 5.37993450e-01\n",
      "  5.30456029e-01]\n",
      " [5.26336202e-01 5.33395311e-01 5.39739986e-01 5.37993448e-01\n",
      "  5.30456028e-01]\n",
      " [5.26336200e-01 5.33395309e-01 5.39739984e-01 5.37993446e-01\n",
      "  5.30456026e-01]\n",
      " [5.26336197e-01 5.33395306e-01 5.39739981e-01 5.37993443e-01\n",
      "  5.30456022e-01]\n",
      " [5.26336192e-01 5.33395301e-01 5.39739977e-01 5.37993438e-01\n",
      "  5.30456017e-01]\n",
      " [5.26336185e-01 5.33395294e-01 5.39739970e-01 5.37993430e-01\n",
      "  5.30456009e-01]\n",
      " [5.26336172e-01 5.33395283e-01 5.39739958e-01 5.37993417e-01\n",
      "  5.30455997e-01]\n",
      " [5.26336153e-01 5.33395264e-01 5.39739940e-01 5.37993397e-01\n",
      "  5.30455976e-01]\n",
      " [5.26336122e-01 5.33395235e-01 5.39739911e-01 5.37993365e-01\n",
      "  5.30455944e-01]\n",
      " [5.26336072e-01 5.33395188e-01 5.39739864e-01 5.37993313e-01\n",
      "  5.30455893e-01]\n",
      " [5.26335993e-01 5.33395114e-01 5.39739790e-01 5.37993231e-01\n",
      "  5.30455811e-01]\n",
      " [5.26335868e-01 5.33394996e-01 5.39739672e-01 5.37993101e-01\n",
      "  5.30455681e-01]\n",
      " [5.26335669e-01 5.33394807e-01 5.39739485e-01 5.37992893e-01\n",
      "  5.30455473e-01]\n",
      " [5.26335352e-01 5.33394508e-01 5.39739187e-01 5.37992563e-01\n",
      "  5.30455144e-01]\n",
      " [5.26334847e-01 5.33394032e-01 5.39738713e-01 5.37992037e-01\n",
      "  5.30454619e-01]\n",
      " [5.26334044e-01 5.33393274e-01 5.39737958e-01 5.37991202e-01\n",
      "  5.30453785e-01]\n",
      " [5.26332768e-01 5.33392070e-01 5.39736759e-01 5.37989873e-01\n",
      "  5.30452458e-01]\n",
      " [5.26330740e-01 5.33390155e-01 5.39734852e-01 5.37987761e-01\n",
      "  5.30450350e-01]\n",
      " [5.26327518e-01 5.33387113e-01 5.39731823e-01 5.37984406e-01\n",
      "  5.30447001e-01]\n",
      " [5.26322402e-01 5.33382283e-01 5.39727013e-01 5.37979080e-01\n",
      "  5.30441685e-01]\n",
      " [5.26314286e-01 5.33374619e-01 5.39719381e-01 5.37970630e-01\n",
      "  5.30433251e-01]\n",
      " [5.26301423e-01 5.33362470e-01 5.39707283e-01 5.37957237e-01\n",
      "  5.30419885e-01]\n",
      " [5.26281059e-01 5.33343233e-01 5.39688126e-01 5.37936038e-01\n",
      "  5.30398730e-01]\n",
      " [5.26248869e-01 5.33312818e-01 5.39657835e-01 5.37902530e-01\n",
      "  5.30365296e-01]\n",
      " [5.26198082e-01 5.33264817e-01 5.39610028e-01 5.37849669e-01\n",
      "  5.30312559e-01]\n",
      " [5.26118143e-01 5.33189235e-01 5.39534744e-01 5.37766476e-01\n",
      "  5.30229577e-01]\n",
      " [5.25992688e-01 5.33070562e-01 5.39416529e-01 5.37635936e-01\n",
      "  5.30099397e-01]\n",
      " [5.25796529e-01 5.32884898e-01 5.39231561e-01 5.37431868e-01\n",
      "  5.29895948e-01]\n",
      " [5.25491223e-01 5.32595719e-01 5.38943421e-01 5.37114332e-01\n",
      "  5.29579485e-01]\n",
      " [5.25018748e-01 5.32147795e-01 5.38497028e-01 5.36623084e-01\n",
      "  5.29090102e-01]\n",
      " [5.24292717e-01 5.31458723e-01 5.37810155e-01 5.35868495e-01\n",
      "  5.28338761e-01]\n",
      " [5.23186721e-01 5.30407585e-01 5.36762080e-01 5.34719534e-01\n",
      "  5.27195442e-01]\n",
      " [5.21519741e-01 5.28820626e-01 5.35179200e-01 5.32988778e-01\n",
      "  5.25474425e-01]\n",
      " [5.19039500e-01 5.26454629e-01 5.32818294e-01 5.30415401e-01\n",
      "  5.22917676e-01]\n",
      " [5.15406222e-01 5.22980199e-01 5.29349571e-01 5.26648733e-01\n",
      "  5.19178930e-01]\n",
      " [5.10181630e-01 5.17969432e-01 5.24343967e-01 5.21237447e-01\n",
      "  5.13813496e-01]\n",
      " [5.02830832e-01 5.10895265e-01 5.17271940e-01 5.13632251e-01\n",
      "  5.06281480e-01]\n",
      " [4.92746763e-01 5.01152073e-01 5.07523374e-01 5.03211982e-01\n",
      "  4.95974001e-01]\n",
      " [4.79306125e-01 4.88106913e-01 4.94458153e-01 4.89342024e-01\n",
      "  4.82270906e-01]\n",
      " [4.61959901e-01 4.71185791e-01 4.77492078e-01 4.71467782e-01\n",
      "  4.64632272e-01]\n",
      " [4.40349507e-01 4.49988116e-01 4.56211739e-01 4.49233489e-01\n",
      "  4.42713977e-01]\n",
      " [4.14424295e-01 4.24407225e-01 4.30496549e-01 4.22601087e-01\n",
      "  4.16482731e-01]\n",
      " [3.84524713e-01 3.94722163e-01 4.00613144e-01 3.91932716e-01\n",
      "  3.86295453e-01]\n",
      " [3.51396852e-01 3.61624912e-01 3.67245789e-01 3.58002484e-01\n",
      "  3.52910162e-01]\n",
      " [3.16122380e-01 3.26163126e-01 3.31441798e-01 3.21922278e-01\n",
      "  3.17413925e-01]\n",
      " [2.79976756e-01 2.89606577e-01 2.94479116e-01 2.84995743e-01\n",
      "  2.81081395e-01]\n",
      " [2.44253838e-01 2.53272484e-01 2.57690690e-01 2.48539672e-01\n",
      "  2.45201546e-01]\n",
      " [2.10103689e-01 2.18356769e-01 2.22292992e-01 2.13720171e-01\n",
      "  2.10918130e-01]\n",
      " [1.78419780e-01 1.85810470e-01 1.89258887e-01 1.81439730e-01\n",
      "  1.79118946e-01]\n",
      " [1.49790091e-01 1.56279742e-01 1.59254374e-01 1.52289230e-01\n",
      "  1.50387897e-01]\n",
      " [1.24505616e-01 1.30105939e-01 1.32636464e-01 1.26557884e-01\n",
      "  1.25013537e-01]\n",
      " [1.02607520e-01 1.07368236e-01 1.09494879e-01 1.04281899e-01\n",
      "  1.03035765e-01]\n",
      " [8.39518302e-02 8.79473309e-02 8.97159119e-02 8.53104990e-02\n",
      "  8.43099555e-02]\n",
      " [6.82748518e-02 7.15922928e-02 7.30500946e-02 6.93723857e-02\n",
      "  6.85719496e-02]\n",
      " [5.52491849e-02 5.79791823e-02 5.91719281e-02 5.61324965e-02\n",
      "  5.54938347e-02]\n",
      " [4.45262404e-02 4.67564031e-02 4.77263105e-02 4.52349943e-02\n",
      "  4.47263764e-02]\n",
      " [3.57652279e-02 3.75761987e-02 3.83609375e-02 3.63325224e-02\n",
      "  3.59280173e-02]\n",
      " [2.86507259e-02 3.01141739e-02 3.07464957e-02 2.91038919e-02\n",
      "  2.87824987e-02]\n",
      " [2.29016420e-02 2.40796278e-02 2.45874455e-02 2.32630597e-02\n",
      "  2.30078778e-02]\n",
      " [1.82742439e-02 1.92194637e-02 1.96262006e-02 1.85621174e-02\n",
      "  1.83596067e-02]\n",
      " [1.45614533e-02 1.53179846e-02 1.56430599e-02 1.47905114e-02\n",
      "  1.46298575e-02]\n",
      " [1.15900251e-02 1.21943105e-02 1.24536716e-02 1.17721340e-02\n",
      "  1.16447187e-02]\n",
      " [9.21672185e-03 9.69862027e-03 9.90526599e-03 9.36140922e-03\n",
      "  9.26037480e-03]\n",
      " [7.32419269e-03 7.70799661e-03 7.87246025e-03 7.43908792e-03\n",
      "  7.35898361e-03]\n",
      " [5.81697542e-03 6.12233941e-03 6.25311671e-03 5.90817479e-03\n",
      "  5.84467144e-03]\n",
      " [4.61784354e-03 4.86060061e-03 4.96451878e-03 4.69021000e-03\n",
      "  4.63987119e-03]\n",
      " [3.66459392e-03 3.85745487e-03 3.93998440e-03 3.72200135e-03\n",
      "  3.68210041e-03]\n",
      " [2.90729515e-03 3.06043666e-03 3.12595089e-03 2.95282620e-03\n",
      "  2.92120027e-03]\n",
      " [2.30597421e-03 2.42752672e-03 2.47951551e-03 2.34207984e-03\n",
      "  2.31701366e-03]\n",
      " [1.82869822e-03 1.92514639e-03 1.96639058e-03 1.85732581e-03\n",
      "  1.83745933e-03]\n",
      " [1.44999991e-03 1.52650884e-03 1.55922182e-03 1.47269590e-03\n",
      "  1.45695082e-03]\n",
      " [1.14959535e-03 1.21027479e-03 1.23621666e-03 1.16758726e-03\n",
      "  1.15510880e-03]\n",
      " [9.11345882e-04 9.59463113e-04 9.80032531e-04 9.25607761e-04\n",
      "  9.15718315e-04]\n",
      " [7.22421593e-04 7.60572413e-04 7.76880197e-04 7.33726149e-04\n",
      "  7.25888634e-04]\n",
      " [5.72629632e-04 6.02875281e-04 6.15803238e-04 5.81589720e-04\n",
      "  5.75378438e-04]\n",
      " [4.53876386e-04 4.77852944e-04 4.88100843e-04 4.60977995e-04\n",
      "  4.56055543e-04]\n",
      " [3.59737768e-04 3.78743429e-04 3.86866419e-04 3.65366232e-04\n",
      "  3.61465200e-04]\n",
      " [2.85116491e-04 3.00181073e-04 3.06619474e-04 2.89577305e-04\n",
      "  2.86485758e-04]\n",
      " [2.25969078e-04 2.37909336e-04 2.43012332e-04 2.29504418e-04\n",
      "  2.27054391e-04]\n",
      " [1.79088648e-04 1.88552251e-04 1.92596711e-04 1.81890484e-04\n",
      "  1.79948861e-04]\n",
      " [1.41932240e-04 1.49432707e-04 1.52638138e-04 1.44152734e-04\n",
      "  1.42614020e-04]\n",
      " [1.12483614e-04 1.18428061e-04 1.20968476e-04 1.14243373e-04\n",
      "  1.13023961e-04]\n",
      " [8.91443185e-05 9.38554766e-05 9.58688170e-05 9.05389313e-05\n",
      "  8.95725641e-05]\n",
      " [7.06472182e-05 7.43809098e-05 7.59765134e-05 7.17524466e-05\n",
      "  7.09866143e-05]\n",
      " [5.59878869e-05 5.89468862e-05 6.02114162e-05 5.68637751e-05\n",
      "  5.62568643e-05]\n",
      " [4.43701806e-05 4.67152078e-05 4.77173520e-05 4.50643155e-05\n",
      "  4.45833481e-05]\n",
      " [3.51630727e-05 3.70215110e-05 3.78157095e-05 3.57131681e-05\n",
      "  3.53320089e-05]\n",
      " [2.78664247e-05 2.93392333e-05 2.99686322e-05 2.83023693e-05\n",
      "  2.80003067e-05]\n",
      " [2.20838478e-05 2.32510409e-05 2.37498352e-05 2.24293285e-05\n",
      "  2.21899488e-05]\n",
      " [1.75011865e-05 1.84261781e-05 1.88214681e-05 1.77749754e-05\n",
      "  1.75852709e-05]\n",
      " [1.38694631e-05 1.46025100e-05 1.49157731e-05 1.40864369e-05\n",
      "  1.39360993e-05]\n",
      " [1.09913576e-05 1.15722891e-05 1.18205463e-05 1.11633062e-05\n",
      "  1.10441661e-05]]\n",
      "[[ 5.56151202e-01  5.28022044e-01  4.98881362e-01  5.14523692e-01\n",
      "   5.31514446e-01]\n",
      " [ 5.56151274e-01  5.28022057e-01  4.98881330e-01  5.14523665e-01\n",
      "   5.31514480e-01]\n",
      " [ 5.56151365e-01  5.28022073e-01  4.98881289e-01  5.14523632e-01\n",
      "   5.31514524e-01]\n",
      " [ 5.56151480e-01  5.28022093e-01  4.98881239e-01  5.14523589e-01\n",
      "   5.31514578e-01]\n",
      " [ 5.56151625e-01  5.28022118e-01  4.98881175e-01  5.14523535e-01\n",
      "   5.31514647e-01]\n",
      " [ 5.56151808e-01  5.28022149e-01  4.98881094e-01  5.14523467e-01\n",
      "   5.31514733e-01]\n",
      " [ 5.56152039e-01  5.28022189e-01  4.98880991e-01  5.14523381e-01\n",
      "   5.31514842e-01]\n",
      " [ 5.56152331e-01  5.28022239e-01  4.98880862e-01  5.14523273e-01\n",
      "   5.31514980e-01]\n",
      " [ 5.56152698e-01  5.28022302e-01  4.98880700e-01  5.14523136e-01\n",
      "   5.31515153e-01]\n",
      " [ 5.56153161e-01  5.28022382e-01  4.98880494e-01  5.14522963e-01\n",
      "   5.31515372e-01]\n",
      " [ 5.56153745e-01  5.28022482e-01  4.98880234e-01  5.14522744e-01\n",
      "   5.31515647e-01]\n",
      " [ 5.56154481e-01  5.28022607e-01  4.98879905e-01  5.14522468e-01\n",
      "   5.31515994e-01]\n",
      " [ 5.56155409e-01  5.28022764e-01  4.98879490e-01  5.14522118e-01\n",
      "   5.31516430e-01]\n",
      " [ 5.56156578e-01  5.28022961e-01  4.98878964e-01  5.14521675e-01\n",
      "   5.31516979e-01]\n",
      " [ 5.56158050e-01  5.28023207e-01  4.98878299e-01  5.14521114e-01\n",
      "   5.31517668e-01]\n",
      " [ 5.56159903e-01  5.28023514e-01  4.98877455e-01  5.14520401e-01\n",
      "   5.31518534e-01]\n",
      " [ 5.56162234e-01  5.28023895e-01  4.98876386e-01  5.14519496e-01\n",
      "   5.31519618e-01]\n",
      " [ 5.56165163e-01  5.28024366e-01  4.98875028e-01  5.14518344e-01\n",
      "   5.31520974e-01]\n",
      " [ 5.56168840e-01  5.28024944e-01  4.98873301e-01  5.14516875e-01\n",
      "   5.31522666e-01]\n",
      " [ 5.56173450e-01  5.28025649e-01  4.98871100e-01  5.14514997e-01\n",
      "   5.31524771e-01]\n",
      " [ 5.56179219e-01  5.28026499e-01  4.98868287e-01  5.14512587e-01\n",
      "   5.31527379e-01]\n",
      " [ 5.56186423e-01  5.28027508e-01  4.98864683e-01  5.14509483e-01\n",
      "   5.31530592e-01]\n",
      " [ 5.56195393e-01  5.28028682e-01  4.98860047e-01  5.14505467e-01\n",
      "   5.31534525e-01]\n",
      " [ 5.56206519e-01  5.28030005e-01  4.98854058e-01  5.14500241e-01\n",
      "   5.31539294e-01]\n",
      " [ 5.56220253e-01  5.28031421e-01  4.98846278e-01  5.14493394e-01\n",
      "   5.31545004e-01]\n",
      " [ 5.56237099e-01  5.28032808e-01  4.98836109e-01  5.14484356e-01\n",
      "   5.31551719e-01]\n",
      " [ 5.56257588e-01  5.28033923e-01  4.98822720e-01  5.14472317e-01\n",
      "   5.31559417e-01]\n",
      " [ 5.56282226e-01  5.28034323e-01  4.98804940e-01  5.14456122e-01\n",
      "   5.31567903e-01]\n",
      " [ 5.56311389e-01  5.28033236e-01  4.98781105e-01  5.14434100e-01\n",
      "   5.31576668e-01]\n",
      " [ 5.56345146e-01  5.28029348e-01  4.98748820e-01  5.14403807e-01\n",
      "   5.31584662e-01]\n",
      " [ 5.56382950e-01  5.28020478e-01  4.98704598e-01  5.14361634e-01\n",
      "   5.31589919e-01]\n",
      " [ 5.56423116e-01  5.28003051e-01  4.98643322e-01  5.14302220e-01\n",
      "   5.31588964e-01]\n",
      " [ 5.56461993e-01  5.27971291e-01  4.98557424e-01  5.14217544e-01\n",
      "   5.31575883e-01]\n",
      " [ 5.56492629e-01  5.27915972e-01  4.98435655e-01  5.14095573e-01\n",
      "   5.31540872e-01]\n",
      " [ 5.56502704e-01  5.27822506e-01  4.98261240e-01  5.13918229e-01\n",
      "   5.31468025e-01]\n",
      " [ 5.56471358e-01  5.27668082e-01  4.98009161e-01  5.13658389e-01\n",
      "   5.31331998e-01]\n",
      " [ 5.56364465e-01  5.27417439e-01  4.97642189e-01  5.13275526e-01\n",
      "   5.31093117e-01]\n",
      " [ 5.56127762e-01  5.27016775e-01  4.97105231e-01  5.12709514e-01\n",
      "   5.30690341e-01]\n",
      " [ 5.55677186e-01  5.26385237e-01  4.96317499e-01  5.11872103e-01\n",
      "   5.30031527e-01]\n",
      " [ 5.54885886e-01  5.25403502e-01  4.95162078e-01  5.10635672e-01\n",
      "   5.28980530e-01]\n",
      " [ 5.53567765e-01  5.23899307e-01  4.93472801e-01  5.08819288e-01\n",
      "   5.27341186e-01]\n",
      " [ 5.51458409e-01  5.21630608e-01  4.91019082e-01  5.06172961e-01\n",
      "   5.24839242e-01]\n",
      " [ 5.48196000e-01  5.18268547e-01  4.87490728e-01  5.02362601e-01\n",
      "   5.21105151e-01]\n",
      " [ 5.43307496e-01  5.13384729e-01  4.82486868e-01  4.96960399e-01\n",
      "   5.15663212e-01]\n",
      " [ 5.36208526e-01  5.06450131e-01  4.75515673e-01  4.89448066e-01\n",
      "   5.07935506e-01]\n",
      " [ 5.26227858e-01  4.96855309e-01  4.66013669e-01  4.79242106e-01\n",
      "   4.97270938e-01]\n",
      " [ 5.12666786e-01  4.83961436e-01  4.53393316e-01  4.65749428e-01\n",
      "   4.83008342e-01]\n",
      " [ 4.94897468e-01  4.67186726e-01  4.37122931e-01  4.48455632e-01\n",
      "   4.64575608e-01]\n",
      " [ 4.72491158e-01  4.46121561e-01  4.16832829e-01  4.27036652e-01\n",
      "   4.41613645e-01]\n",
      " [ 4.45350092e-01  4.20650175e-01  3.92427361e-01  4.01469878e-01\n",
      "   4.14098058e-01]\n",
      " [ 4.13803631e-01  3.91043933e-01  3.64170714e-01  3.72110484e-01\n",
      "   3.82420825e-01]\n",
      " [ 3.78630035e-01  3.57989977e-01  3.32713099e-01  3.39700894e-01\n",
      "   3.47397666e-01]\n",
      " [ 3.40984815e-01  3.22534869e-01  2.99038345e-01  3.05299426e-01\n",
      "   3.10187270e-01]\n",
      " [ 3.02248391e-01  2.85951132e-01  2.64339942e-01  2.70141730e-01\n",
      "   2.72138552e-01]\n",
      " [ 2.63834218e-01  2.49561840e-01  2.29857868e-01  2.35472214e-01\n",
      "   2.34606869e-01]\n",
      " [ 2.27008996e-01  2.14570596e-01  1.96720033e-01  2.02389985e-01\n",
      "   1.98787305e-01]\n",
      " [ 1.92765664e-01  1.81936547e-01  1.65825360e-01  1.71743187e-01\n",
      "   1.65601048e-01]\n",
      " [ 1.61766182e-01  1.52313224e-01  1.37786258e-01  1.44084667e-01\n",
      "   1.35648268e-01]\n",
      " [ 1.34347852e-01  1.26047915e-01  1.12927698e-01  1.19682167e-01\n",
      "   1.09219789e-01]\n",
      " [ 1.10572966e-01  1.03224021e-01  9.13266718e-02  9.85648204e-02\n",
      "   8.63477800e-02]\n",
      " [ 9.02986222e-02  8.37248469e-02  7.28719156e-02  8.05857988e-02\n",
      "   6.68737257e-02]\n",
      " [ 7.32480710e-02  6.73007222e-02  5.73269348e-02  6.54851718e-02\n",
      "   5.05165335e-02]\n",
      " [ 5.90722157e-02  5.36279760e-02  4.43854821e-02  5.29434937e-02\n",
      "   3.69305626e-02]\n",
      " [ 4.73965372e-02  4.23546191e-02  3.37145989e-02  4.26223216e-02\n",
      "   2.57495051e-02]\n",
      " [ 3.78532675e-02  3.31321147e-02  2.49845899e-02  3.41917409e-02\n",
      "   1.66162058e-02]\n",
      " [ 3.01010329e-02  2.56351033e-02  1.78876558e-02  2.73469691e-02\n",
      "   9.20066038e-03]\n",
      " [ 2.38350067e-02  1.95718736e-02  1.21477973e-02  2.18167452e-02\n",
      "   3.20911903e-03]\n",
      " [ 1.87904974e-02  1.46883575e-02  7.52460294e-03  1.73660779e-02\n",
      "  -1.61291962e-03]\n",
      " [ 1.47423819e-02  1.07679725e-02  3.81311059e-03  1.37954512e-02\n",
      "  -5.48155691e-03]\n",
      " [ 1.15021686e-02  7.62905956e-03  8.41392266e-04  1.09380307e-02\n",
      "  -8.57750903e-03]\n",
      " [ 8.91391971e-03  5.12112927e-03 -1.53299083e-03  8.65593252e-03\n",
      "  -1.10501423e-02]\n",
      " [ 6.84982008e-03  3.12070155e-03 -3.42692050e-03  6.83622481e-03\n",
      "  -1.30217990e-02]\n",
      " [ 5.20585748e-03  1.52720881e-03 -4.93559531e-03  5.38706112e-03\n",
      "  -1.45919830e-02]\n",
      " [ 3.89786504e-03  2.59218691e-04 -6.13610340e-03  4.23415304e-03\n",
      "  -1.58411789e-02]\n",
      " [ 2.85803456e-03 -7.48907528e-04 -7.09058394e-03  3.31767217e-03\n",
      "  -1.68342068e-02]\n",
      " [ 2.03192598e-03 -1.54988934e-03 -7.84894701e-03  2.58959850e-03\n",
      "  -1.76230945e-02]\n",
      " [ 1.37595099e-03 -2.18595088e-03 -8.45116752e-03  2.01149247e-03\n",
      "  -1.82494901e-02]\n",
      " [ 8.55284864e-04 -2.69083543e-03 -8.92919183e-03  1.55264822e-03\n",
      "  -1.87466632e-02]\n",
      " [ 4.42151688e-04 -3.09146169e-03 -9.30850551e-03  1.18857834e-03\n",
      "  -1.91411460e-02]\n",
      " [ 1.14427312e-04 -3.40927439e-03 -9.60941182e-03  8.99780146e-04\n",
      "  -1.94540696e-02]\n",
      " [-1.45491995e-04 -3.66133877e-03 -9.84806777e-03  6.70737067e-04\n",
      "  -1.97022467e-02]\n",
      " [-3.51601428e-04 -3.86122325e-03 -1.00373198e-02  4.89114054e-04\n",
      "  -1.98990425e-02]\n",
      " [-5.15019967e-04 -4.01970859e-03 -1.01873749e-02  3.45111605e-04\n",
      "  -2.00550751e-02]\n",
      " [-6.44576849e-04 -4.14535598e-03 -1.03063390e-02  2.30948569e-04\n",
      "  -2.01787754e-02]\n",
      " [-7.47280183e-04 -4.24496109e-03 -1.04006460e-02  1.40448947e-04\n",
      "  -2.02768356e-02]\n",
      " [-8.28690748e-04 -4.32391637e-03 -1.04754017e-02  6.87123504e-05\n",
      "  -2.03545653e-02]\n",
      " [-8.93219748e-04 -4.38649958e-03 -1.05346561e-02  1.18515224e-05\n",
      "  -2.04161764e-02]\n",
      " [-9.44365742e-04 -4.43610358e-03 -1.05816217e-02 -3.32164969e-05\n",
      "  -2.04650096e-02]\n",
      " [-9.84903007e-04 -4.47541883e-03 -1.06188458e-02 -6.89363935e-05\n",
      "  -2.05037136e-02]\n",
      " [-1.01703120e-03 -4.50657860e-03 -1.06483482e-02 -9.72464779e-05\n",
      "  -2.05343888e-02]\n",
      " [-1.04249419e-03 -4.53127413e-03 -1.06717302e-02 -1.19683417e-04\n",
      "  -2.05587002e-02]\n",
      " [-1.06267440e-03 -4.55084614e-03 -1.06902612e-02 -1.37465364e-04\n",
      "  -2.05779678e-02]\n",
      " [-1.07866764e-03 -4.56635739e-03 -1.07049475e-02 -1.51557916e-04\n",
      "  -2.05932376e-02]\n",
      " [-1.09134249e-03 -4.57865028e-03 -1.07165865e-02 -1.62726439e-04\n",
      "  -2.06053392e-02]\n",
      " [-1.10138740e-03 -4.58839248e-03 -1.07258105e-02 -1.71577564e-04\n",
      "  -2.06149298e-02]\n",
      " [-1.10934801e-03 -4.59611320e-03 -1.07331206e-02 -1.78592094e-04\n",
      "  -2.06225304e-02]\n",
      " [-1.11565677e-03 -4.60223186e-03 -1.07389138e-02 -1.84151092e-04\n",
      "  -2.06285538e-02]\n",
      " [-1.12065644e-03 -4.60708087e-03 -1.07435049e-02 -1.88556568e-04\n",
      "  -2.06333273e-02]\n",
      " [-1.12461863e-03 -4.61092367e-03 -1.07471433e-02 -1.92047873e-04\n",
      "  -2.06371103e-02]\n",
      " [-1.12775863e-03 -4.61396906e-03 -1.07500267e-02 -1.94814698e-04\n",
      "  -2.06401083e-02]]\n"
     ]
    }
   ],
   "source": [
    "print(train_scores)\n",
    "print(test_scores)"
   ]
  },
  {
   "cell_type": "code",
   "execution_count": 69,
   "id": "a246b720",
   "metadata": {},
   "outputs": [],
   "source": [
    "train_mean=np.mean(train_scores,axis=1)"
   ]
  },
  {
   "cell_type": "code",
   "execution_count": 70,
   "id": "8895bd26",
   "metadata": {},
   "outputs": [],
   "source": [
    "test_mean=np.mean(test_scores,axis=1)   "
   ]
  },
  {
   "cell_type": "code",
   "execution_count": 71,
   "id": "eda96f59",
   "metadata": {},
   "outputs": [
    {
     "data": {
      "text/plain": [
       "array([5.33584198e-01, 5.33584198e-01, 5.33584198e-01, 5.33584198e-01,\n",
       "       5.33584198e-01, 5.33584198e-01, 5.33584197e-01, 5.33584197e-01,\n",
       "       5.33584196e-01, 5.33584195e-01, 5.33584193e-01, 5.33584190e-01,\n",
       "       5.33584185e-01, 5.33584178e-01, 5.33584165e-01, 5.33584146e-01,\n",
       "       5.33584115e-01, 5.33584066e-01, 5.33583988e-01, 5.33583864e-01,\n",
       "       5.33583666e-01, 5.33583351e-01, 5.33582850e-01, 5.33582053e-01,\n",
       "       5.33580786e-01, 5.33578772e-01, 5.33575572e-01, 5.33570492e-01,\n",
       "       5.33562433e-01, 5.33549660e-01, 5.33529437e-01, 5.33497470e-01,\n",
       "       5.33447031e-01, 5.33367635e-01, 5.33243023e-01, 5.33048161e-01,\n",
       "       5.32744836e-01, 5.32275351e-01, 5.31553770e-01, 5.30454272e-01,\n",
       "       5.28796554e-01, 5.26329100e-01, 5.22712731e-01, 5.17509194e-01,\n",
       "       5.10182354e-01, 5.00121639e-01, 4.86696824e-01, 4.69347565e-01,\n",
       "       4.47699366e-01, 4.21682378e-01, 3.91617638e-01, 3.58236040e-01,\n",
       "       3.22612701e-01, 2.86027917e-01, 2.49791646e-01, 2.15078350e-01,\n",
       "       1.82809563e-01, 1.53600267e-01, 1.27763888e-01, 1.05357660e-01,\n",
       "       8.62471055e-02, 7.01723149e-02, 5.68053253e-02, 4.57940649e-02,\n",
       "       3.67925808e-02, 2.94795572e-02, 2.35679306e-02, 1.88083265e-02,\n",
       "       1.49885733e-02, 1.19309720e-02, 9.48847843e-03, 7.54054422e-03,\n",
       "       5.98905555e-03, 4.75460883e-03, 3.77322699e-03, 2.99354183e-03,\n",
       "       2.37442199e-03, 1.88300406e-03, 1.49307546e-03, 1.18375657e-03,\n",
       "       9.38433520e-04, 7.43897797e-04, 5.89655262e-04, 4.67372742e-04,\n",
       "       3.70435810e-04, 2.93596021e-04, 2.32689911e-04, 1.84415391e-04,\n",
       "       1.46153968e-04, 1.15829497e-04, 9.17960215e-05, 7.27487404e-05,\n",
       "       5.76533657e-05, 4.56900808e-05, 3.62090940e-05, 2.86953932e-05,\n",
       "       2.27408003e-05, 1.80218158e-05, 1.42820565e-05, 1.13183330e-05])"
      ]
     },
     "execution_count": 71,
     "metadata": {},
     "output_type": "execute_result"
    }
   ],
   "source": [
    "train_mean"
   ]
  },
  {
   "cell_type": "code",
   "execution_count": 72,
   "id": "9d853a60",
   "metadata": {},
   "outputs": [
    {
     "data": {
      "text/plain": [
       "array([ 5.25818549e-01,  5.25818561e-01,  5.25818577e-01,  5.25818596e-01,\n",
       "        5.25818620e-01,  5.25818650e-01,  5.25818689e-01,  5.25818737e-01,\n",
       "        5.25818798e-01,  5.25818874e-01,  5.25818970e-01,  5.25819091e-01,\n",
       "        5.25819242e-01,  5.25819432e-01,  5.25819668e-01,  5.25819962e-01,\n",
       "        5.25820326e-01,  5.25820775e-01,  5.25821325e-01,  5.25821993e-01,\n",
       "        5.25822794e-01,  5.25823738e-01,  5.25824823e-01,  5.25826023e-01,\n",
       "        5.25827270e-01,  5.25828418e-01,  5.25829193e-01,  5.25829103e-01,\n",
       "        5.25827300e-01,  5.25822357e-01,  5.25811916e-01,  5.25792135e-01,\n",
       "        5.25756827e-01,  5.25696140e-01,  5.25594541e-01,  5.25427798e-01,\n",
       "        5.25158547e-01,  5.24729925e-01,  5.24056710e-01,  5.23013534e-01,\n",
       "        5.21420069e-01,  5.19024060e-01,  5.15484605e-01,  5.10360541e-01,\n",
       "        5.03111580e-01,  4.93121976e-01,  4.79755861e-01,  4.62447673e-01,\n",
       "        4.40819169e-01,  4.14799113e-01,  3.84709917e-01,  3.51286334e-01,\n",
       "        3.15608945e-01,  2.78963950e-01,  2.42666602e-01,  2.07895383e-01,\n",
       "        1.75574361e-01,  1.46319720e-01,  1.20445084e-01,  9.80072519e-02,\n",
       "        7.88709818e-02,  6.27754866e-02,  4.93919460e-02,  3.83675164e-02,\n",
       "        2.93555838e-02,  2.20342843e-02,  1.61161083e-02,  1.13513232e-02,\n",
       "        7.52747186e-03,  4.46662842e-03,  2.02156967e-03,  7.16053856e-05,\n",
       "       -1.48149018e-03, -2.71720910e-03, -3.69959831e-03, -4.48008127e-03,\n",
       "       -5.09983301e-03, -5.59175148e-03, -5.98207663e-03, -6.29170968e-03,\n",
       "       -6.53728164e-03, -6.73201458e-03, -6.88641339e-03, -7.00881974e-03,\n",
       "       -7.10585480e-03, -7.18277234e-03, -7.24374007e-03, -7.29206341e-03,\n",
       "       -7.33036353e-03, -7.36071867e-03, -7.38477644e-03, -7.40384298e-03,\n",
       "       -7.41895361e-03, -7.43092899e-03, -7.44041956e-03, -7.44794086e-03,\n",
       "       -7.45390147e-03, -7.45862522e-03, -7.46236876e-03, -7.46533548e-03])"
      ]
     },
     "execution_count": 72,
     "metadata": {},
     "output_type": "execute_result"
    }
   ],
   "source": [
    "test_mean"
   ]
  },
  {
   "cell_type": "code",
   "execution_count": 73,
   "id": "5a531eee",
   "metadata": {},
   "outputs": [
    {
     "data": {
      "text/plain": [
       "0.5258291929838951"
      ]
     },
     "execution_count": 73,
     "metadata": {},
     "output_type": "execute_result"
    }
   ],
   "source": [
    "max(test_mean)"
   ]
  },
  {
   "cell_type": "code",
   "execution_count": 74,
   "id": "e89e64d2",
   "metadata": {},
   "outputs": [
    {
     "data": {
      "text/plain": [
       "0.5335841980711626"
      ]
     },
     "execution_count": 74,
     "metadata": {},
     "output_type": "execute_result"
    }
   ],
   "source": [
    "max(train_mean)"
   ]
  },
  {
   "cell_type": "code",
   "execution_count": 75,
   "id": "479942e3",
   "metadata": {},
   "outputs": [
    {
     "data": {
      "text/plain": [
       "<seaborn.axisgrid.JointGrid at 0x275cfb18700>"
      ]
     },
     "execution_count": 75,
     "metadata": {},
     "output_type": "execute_result"
    },
    {
     "data": {
      "image/png": "[encoded data removed]",
      "text/plain": [
       "<Figure size 600x600 with 3 Axes>"
      ]
     },
     "metadata": {},
     "output_type": "display_data"
    }
   ],
   "source": [
    "sns.jointplot(x=np.log(param_range),y=test_mean)"
   ]
  },
  {
   "cell_type": "markdown",
   "id": "968fc6ec",
   "metadata": {},
   "source": [
    "Lasso"
   ]
  },
  {
   "cell_type": "code",
   "execution_count": 76,
   "id": "6543dad9",
   "metadata": {},
   "outputs": [],
   "source": [
    "from sklearn.linear_model import Lasso"
   ]
  },
  {
   "cell_type": "code",
   "execution_count": 77,
   "id": "03ce03f3",
   "metadata": {},
   "outputs": [],
   "source": [
    "train_scores, test_scores = validation_curve(\n",
    "  Lasso(),\n",
    "  X_train_s, \n",
    "  y_train,\n",
    "  param_name=\"alpha\",\n",
    "  param_range=param_range,\n",
    "  scoring = \"r2\"\n",
    ")"
   ]
  },
  {
   "cell_type": "code",
   "execution_count": 78,
   "id": "aac868b7",
   "metadata": {},
   "outputs": [
    {
     "name": "stdout",
     "output_type": "stream",
     "text": [
      "[[0.52633621 0.53339531 0.53973999 0.53799345 0.53045603]\n",
      " [0.52633621 0.53339531 0.53973999 0.53799345 0.53045603]\n",
      " [0.52633621 0.53339531 0.53973999 0.53799345 0.53045603]\n",
      " [0.52633621 0.53339531 0.53973999 0.53799345 0.53045603]\n",
      " [0.52633621 0.53339531 0.53973999 0.53799345 0.53045603]\n",
      " [0.52633621 0.53339531 0.53973999 0.53799345 0.53045603]\n",
      " [0.52633621 0.53339531 0.53973999 0.53799345 0.53045603]\n",
      " [0.52633621 0.53339531 0.53973999 0.53799345 0.53045603]\n",
      " [0.52633621 0.53339531 0.53973999 0.53799345 0.53045603]\n",
      " [0.5263362  0.53339531 0.53973999 0.53799345 0.53045603]\n",
      " [0.5263362  0.53339531 0.53973999 0.53799345 0.53045603]\n",
      " [0.5263362  0.53339531 0.53973999 0.53799345 0.53045603]\n",
      " [0.5263362  0.53339531 0.53973999 0.53799345 0.53045603]\n",
      " [0.5263362  0.53339531 0.53973999 0.53799345 0.53045603]\n",
      " [0.5263362  0.53339531 0.53973999 0.53799345 0.53045603]\n",
      " [0.5263362  0.53339531 0.53973998 0.53799345 0.53045603]\n",
      " [0.5263362  0.53339531 0.53973998 0.53799344 0.53045602]\n",
      " [0.52633619 0.5333953  0.53973998 0.53799344 0.53045602]\n",
      " [0.52633619 0.5333953  0.53973997 0.53799343 0.53045601]\n",
      " [0.52633618 0.53339529 0.53973996 0.53799342 0.530456  ]\n",
      " [0.52633616 0.53339527 0.53973994 0.5379934  0.53045598]\n",
      " [0.52633613 0.53339524 0.53973992 0.53799338 0.53045596]\n",
      " [0.52633609 0.5333952  0.53973987 0.53799333 0.53045591]\n",
      " [0.52633602 0.53339513 0.5397398  0.53799326 0.53045584]\n",
      " [0.52633591 0.53339503 0.53973969 0.53799314 0.53045573]\n",
      " [0.52633574 0.53339486 0.53973952 0.53799296 0.53045555]\n",
      " [0.52633546 0.53339459 0.53973924 0.53799267 0.53045526]\n",
      " [0.52633502 0.53339416 0.5397388  0.53799221 0.53045481]\n",
      " [0.52633431 0.53339348 0.53973809 0.53799148 0.53045409]\n",
      " [0.52633319 0.53339239 0.53973697 0.53799031 0.53045293]\n",
      " [0.52633141 0.53339066 0.53973518 0.53798844 0.5304511 ]\n",
      " [0.52632857 0.53338791 0.53973233 0.53798548 0.53044818]\n",
      " [0.52632405 0.53338352 0.53972779 0.53798076 0.53044352]\n",
      " [0.52631783 0.53337653 0.53972057 0.53797324 0.53043612]\n",
      " [0.52630827 0.53336541 0.53970907 0.53796126 0.53042432]\n",
      " [0.52629306 0.5333477  0.53969076 0.53794443 0.53040554]\n",
      " [0.52626882 0.53331949 0.5396616  0.53791781 0.53037563]\n",
      " [0.52623024 0.53327458 0.53961517 0.53787541 0.53032801]\n",
      " [0.5261688  0.53320308 0.53954238 0.53780791 0.53025219]\n",
      " [0.52607098 0.53308922 0.53944733 0.53770042 0.53013146]\n",
      " [0.52591521 0.53290792 0.53929599 0.53752927 0.52996047]\n",
      " [0.52566719 0.53261925 0.53908106 0.53725675 0.52973881]\n",
      " [0.52527226 0.53216182 0.53875172 0.53682281 0.52943027]\n",
      " [0.52465057 0.53151309 0.53822733 0.5362352  0.52899005]\n",
      " [0.52377845 0.53048013 0.53739235 0.53533555 0.52844079]\n",
      " [0.52238979 0.529348   0.53606282 0.53410395 0.52764135]\n",
      " [0.52017864 0.52767967 0.53448217 0.532282   0.52636842]\n",
      " [0.51671676 0.52504869 0.53259776 0.52961123 0.52434155]\n",
      " [0.51323644 0.52203535 0.52959725 0.52629662 0.5211142 ]\n",
      " [0.50817228 0.51723727 0.52481958 0.52101881 0.51597535]\n",
      " [0.5001087  0.50959736 0.51721218 0.51261503 0.50779285]\n",
      " [0.48726921 0.49743246 0.50509905 0.49923384 0.49476421]\n",
      " [0.46682511 0.47806249 0.48581152 0.47792718 0.47401861]\n",
      " [0.43427231 0.44722001 0.45510032 0.44400095 0.44098572]\n",
      " [0.38243905 0.39811004 0.40619986 0.38998077 0.38838799]\n",
      " [0.30814552 0.32169701 0.32833565 0.31385724 0.31568531]\n",
      " [0.25013865 0.26080544 0.26330897 0.23592383 0.24152658]\n",
      " [0.17610658 0.18853256 0.19064203 0.15569873 0.16113442]\n",
      " [0.0582266  0.07345368 0.07493572 0.02795768 0.03312737]\n",
      " [0.         0.         0.         0.         0.        ]\n",
      " [0.         0.         0.         0.         0.        ]\n",
      " [0.         0.         0.         0.         0.        ]\n",
      " [0.         0.         0.         0.         0.        ]\n",
      " [0.         0.         0.         0.         0.        ]\n",
      " [0.         0.         0.         0.         0.        ]\n",
      " [0.         0.         0.         0.         0.        ]\n",
      " [0.         0.         0.         0.         0.        ]\n",
      " [0.         0.         0.         0.         0.        ]\n",
      " [0.         0.         0.         0.         0.        ]\n",
      " [0.         0.         0.         0.         0.        ]\n",
      " [0.         0.         0.         0.         0.        ]\n",
      " [0.         0.         0.         0.         0.        ]\n",
      " [0.         0.         0.         0.         0.        ]\n",
      " [0.         0.         0.         0.         0.        ]\n",
      " [0.         0.         0.         0.         0.        ]\n",
      " [0.         0.         0.         0.         0.        ]\n",
      " [0.         0.         0.         0.         0.        ]\n",
      " [0.         0.         0.         0.         0.        ]\n",
      " [0.         0.         0.         0.         0.        ]\n",
      " [0.         0.         0.         0.         0.        ]\n",
      " [0.         0.         0.         0.         0.        ]\n",
      " [0.         0.         0.         0.         0.        ]\n",
      " [0.         0.         0.         0.         0.        ]\n",
      " [0.         0.         0.         0.         0.        ]\n",
      " [0.         0.         0.         0.         0.        ]\n",
      " [0.         0.         0.         0.         0.        ]\n",
      " [0.         0.         0.         0.         0.        ]\n",
      " [0.         0.         0.         0.         0.        ]\n",
      " [0.         0.         0.         0.         0.        ]\n",
      " [0.         0.         0.         0.         0.        ]\n",
      " [0.         0.         0.         0.         0.        ]\n",
      " [0.         0.         0.         0.         0.        ]\n",
      " [0.         0.         0.         0.         0.        ]\n",
      " [0.         0.         0.         0.         0.        ]\n",
      " [0.         0.         0.         0.         0.        ]\n",
      " [0.         0.         0.         0.         0.        ]\n",
      " [0.         0.         0.         0.         0.        ]\n",
      " [0.         0.         0.         0.         0.        ]\n",
      " [0.         0.         0.         0.         0.        ]\n",
      " [0.         0.         0.         0.         0.        ]]\n"
     ]
    }
   ],
   "source": [
    "print(train_scores)\n"
   ]
  },
  {
   "cell_type": "code",
   "execution_count": 79,
   "id": "78ebeaf9",
   "metadata": {},
   "outputs": [
    {
     "name": "stdout",
     "output_type": "stream",
     "text": [
      "[[ 5.56151139e-01  5.28022166e-01  4.98881398e-01  5.14523813e-01\n",
      "   5.31514041e-01]\n",
      " [ 5.56151196e-01  5.28022210e-01  4.98881376e-01  5.14523817e-01\n",
      "   5.31513970e-01]\n",
      " [ 5.56151266e-01  5.28022266e-01  4.98881348e-01  5.14523823e-01\n",
      "   5.31513879e-01]\n",
      " [ 5.56151356e-01  5.28022337e-01  4.98881313e-01  5.14523830e-01\n",
      "   5.31513765e-01]\n",
      " [ 5.56151468e-01  5.28022426e-01  4.98881268e-01  5.14523839e-01\n",
      "   5.31513620e-01]\n",
      " [ 5.56151610e-01  5.28022538e-01  4.98881212e-01  5.14523851e-01\n",
      "   5.31513441e-01]\n",
      " [ 5.56151790e-01  5.28022688e-01  4.98881142e-01  5.14523865e-01\n",
      "   5.31513212e-01]\n",
      " [ 5.56152016e-01  5.28022867e-01  4.98881052e-01  5.14523884e-01\n",
      "   5.31512922e-01]\n",
      " [ 5.56152301e-01  5.28023092e-01  4.98880915e-01  5.14523907e-01\n",
      "   5.31512556e-01]\n",
      " [ 5.56152642e-01  5.28023377e-01  4.98880773e-01  5.14523936e-01\n",
      "   5.31512094e-01]\n",
      " [ 5.56153097e-01  5.28023736e-01  4.98880594e-01  5.14523973e-01\n",
      "   5.31511512e-01]\n",
      " [ 5.56153670e-01  5.28024190e-01  4.98880367e-01  5.14524041e-01\n",
      "   5.31510776e-01]\n",
      " [ 5.56154394e-01  5.28024762e-01  4.98880081e-01  5.14524100e-01\n",
      "   5.31509849e-01]\n",
      " [ 5.56155307e-01  5.28025483e-01  4.98879720e-01  5.14524173e-01\n",
      "   5.31508678e-01]\n",
      " [ 5.56156458e-01  5.28026393e-01  4.98879264e-01  5.14524266e-01\n",
      "   5.31507200e-01]\n",
      " [ 5.56157912e-01  5.28027542e-01  4.98878688e-01  5.14524383e-01\n",
      "   5.31505335e-01]\n",
      " [ 5.56159744e-01  5.28028990e-01  4.98877961e-01  5.14524530e-01\n",
      "   5.31502981e-01]\n",
      " [ 5.56162056e-01  5.28030817e-01  4.98877042e-01  5.14524715e-01\n",
      "   5.31500010e-01]\n",
      " [ 5.56164972e-01  5.28033120e-01  4.98875882e-01  5.14524946e-01\n",
      "   5.31496259e-01]\n",
      " [ 5.56168649e-01  5.28036025e-01  4.98874415e-01  5.14525237e-01\n",
      "   5.31491524e-01]\n",
      " [ 5.56173286e-01  5.28039686e-01  4.98872559e-01  5.14525600e-01\n",
      "   5.31485546e-01]\n",
      " [ 5.56179130e-01  5.28044301e-01  4.98870211e-01  5.14526054e-01\n",
      "   5.31477996e-01]\n",
      " [ 5.56186495e-01  5.28050114e-01  4.98867238e-01  5.14526618e-01\n",
      "   5.31468461e-01]\n",
      " [ 5.56195773e-01  5.28057436e-01  4.98863470e-01  5.14527317e-01\n",
      "   5.31456414e-01]\n",
      " [ 5.56207456e-01  5.28066651e-01  4.98858689e-01  5.14528179e-01\n",
      "   5.31441189e-01]\n",
      " [ 5.56222161e-01  5.28078241e-01  4.98852614e-01  5.14529234e-01\n",
      "   5.31421941e-01]\n",
      " [ 5.56240654e-01  5.28092808e-01  4.98844881e-01  5.14530514e-01\n",
      "   5.31397594e-01]\n",
      " [ 5.56263893e-01  5.28111094e-01  4.98835016e-01  5.14532047e-01\n",
      "   5.31366778e-01]\n",
      " [ 5.56293060e-01  5.28134019e-01  4.98822400e-01  5.14533850e-01\n",
      "   5.31327746e-01]\n",
      " [ 5.56329617e-01  5.28162707e-01  4.98806210e-01  5.14535917e-01\n",
      "   5.31278256e-01]\n",
      " [ 5.56375352e-01  5.28198526e-01  4.98785350e-01  5.14538193e-01\n",
      "   5.31215432e-01]\n",
      " [ 5.56432431e-01  5.28243117e-01  4.98758345e-01  5.14540536e-01\n",
      "   5.31135558e-01]\n",
      " [ 5.56503456e-01  5.28298418e-01  4.98723178e-01  5.14542652e-01\n",
      "   5.31033817e-01]\n",
      " [ 5.56623131e-01  5.28366662e-01  4.98677069e-01  5.14543981e-01\n",
      "   5.30903918e-01]\n",
      " [ 5.56781858e-01  5.28450325e-01  4.98616125e-01  5.14543525e-01\n",
      "   5.30737590e-01]\n",
      " [ 5.56978620e-01  5.28551995e-01  4.98534825e-01  5.14570232e-01\n",
      "   5.30523864e-01]\n",
      " [ 5.57221287e-01  5.28674075e-01  4.98425234e-01  5.14601448e-01\n",
      "   5.30248051e-01]\n",
      " [ 5.57518549e-01  5.28818230e-01  4.98275799e-01  5.14633673e-01\n",
      "   5.29890267e-01]\n",
      " [ 5.57879406e-01  5.28984382e-01  4.98076885e-01  5.14662926e-01\n",
      "   5.29423276e-01]\n",
      " [ 5.58312071e-01  5.29168962e-01  4.97922726e-01  5.14681670e-01\n",
      "   5.28809289e-01]\n",
      " [ 5.58821911e-01  5.29361940e-01  4.97695796e-01  5.14676395e-01\n",
      "   5.28058942e-01]\n",
      " [ 5.59407743e-01  5.29541864e-01  4.97391036e-01  5.14623675e-01\n",
      "   5.27146358e-01]\n",
      " [ 5.60055401e-01  5.29666842e-01  4.96949984e-01  5.14483804e-01\n",
      "   5.26155550e-01]\n",
      " [ 5.60718288e-01  5.29647811e-01  4.96282396e-01  5.14181647e-01\n",
      "   5.25092667e-01]\n",
      " [ 5.61208548e-01  5.29395180e-01  4.95263185e-01  5.13628755e-01\n",
      "   5.24373477e-01]\n",
      " [ 5.61486345e-01  5.28801386e-01  4.93695551e-01  5.12934441e-01\n",
      "   5.23631111e-01]\n",
      " [ 5.61294161e-01  5.27561892e-01  4.92094265e-01  5.11869840e-01\n",
      "   5.22429213e-01]\n",
      " [ 5.60134108e-01  5.25420919e-01  4.90126735e-01  5.10041566e-01\n",
      "   5.20490416e-01]\n",
      " [ 5.56494827e-01  5.22086648e-01  4.87068324e-01  5.07242962e-01\n",
      "   5.17371710e-01]\n",
      " [ 5.50577995e-01  5.16846818e-01  4.82292418e-01  5.02695379e-01\n",
      "   5.12365983e-01]\n",
      " [ 5.41167580e-01  5.08590939e-01  4.74806379e-01  4.95338987e-01\n",
      "   5.04345145e-01]\n",
      " [ 5.26197238e-01  4.95555544e-01  4.63036081e-01  4.83479971e-01\n",
      "   4.91510580e-01]\n",
      " [ 5.02377505e-01  4.74938693e-01  4.44483208e-01  4.64413389e-01\n",
      "   4.70993687e-01]\n",
      " [ 4.64471566e-01  4.42286465e-01  4.15179985e-01  4.33822228e-01\n",
      "   4.38223899e-01]\n",
      " [ 4.04142116e-01  3.90516505e-01  3.68821856e-01  3.84819986e-01\n",
      "   3.85917563e-01]\n",
      " [ 3.17661089e-01  3.09997168e-01  2.95385320e-01  3.16144051e-01\n",
      "   3.15504596e-01]\n",
      " [ 2.54502282e-01  2.47873006e-01  2.32744453e-01  2.43039308e-01\n",
      "   2.42279039e-01]\n",
      " [ 1.78156532e-01  1.78563918e-01  1.65947836e-01  1.59111537e-01\n",
      "   1.55860997e-01]\n",
      " [ 5.79066295e-02  6.70144877e-02  5.88635195e-02  2.81772189e-02\n",
      "   1.58705556e-02]\n",
      " [-1.13975016e-03 -4.62559926e-03 -1.07610384e-02 -2.05381078e-04\n",
      "  -2.06515574e-02]\n",
      " [-1.13975016e-03 -4.62559926e-03 -1.07610384e-02 -2.05381078e-04\n",
      "  -2.06515574e-02]\n",
      " [-1.13975016e-03 -4.62559926e-03 -1.07610384e-02 -2.05381078e-04\n",
      "  -2.06515574e-02]\n",
      " [-1.13975016e-03 -4.62559926e-03 -1.07610384e-02 -2.05381078e-04\n",
      "  -2.06515574e-02]\n",
      " [-1.13975016e-03 -4.62559926e-03 -1.07610384e-02 -2.05381078e-04\n",
      "  -2.06515574e-02]\n",
      " [-1.13975016e-03 -4.62559926e-03 -1.07610384e-02 -2.05381078e-04\n",
      "  -2.06515574e-02]\n",
      " [-1.13975016e-03 -4.62559926e-03 -1.07610384e-02 -2.05381078e-04\n",
      "  -2.06515574e-02]\n",
      " [-1.13975016e-03 -4.62559926e-03 -1.07610384e-02 -2.05381078e-04\n",
      "  -2.06515574e-02]\n",
      " [-1.13975016e-03 -4.62559926e-03 -1.07610384e-02 -2.05381078e-04\n",
      "  -2.06515574e-02]\n",
      " [-1.13975016e-03 -4.62559926e-03 -1.07610384e-02 -2.05381078e-04\n",
      "  -2.06515574e-02]\n",
      " [-1.13975016e-03 -4.62559926e-03 -1.07610384e-02 -2.05381078e-04\n",
      "  -2.06515574e-02]\n",
      " [-1.13975016e-03 -4.62559926e-03 -1.07610384e-02 -2.05381078e-04\n",
      "  -2.06515574e-02]\n",
      " [-1.13975016e-03 -4.62559926e-03 -1.07610384e-02 -2.05381078e-04\n",
      "  -2.06515574e-02]\n",
      " [-1.13975016e-03 -4.62559926e-03 -1.07610384e-02 -2.05381078e-04\n",
      "  -2.06515574e-02]\n",
      " [-1.13975016e-03 -4.62559926e-03 -1.07610384e-02 -2.05381078e-04\n",
      "  -2.06515574e-02]\n",
      " [-1.13975016e-03 -4.62559926e-03 -1.07610384e-02 -2.05381078e-04\n",
      "  -2.06515574e-02]\n",
      " [-1.13975016e-03 -4.62559926e-03 -1.07610384e-02 -2.05381078e-04\n",
      "  -2.06515574e-02]\n",
      " [-1.13975016e-03 -4.62559926e-03 -1.07610384e-02 -2.05381078e-04\n",
      "  -2.06515574e-02]\n",
      " [-1.13975016e-03 -4.62559926e-03 -1.07610384e-02 -2.05381078e-04\n",
      "  -2.06515574e-02]\n",
      " [-1.13975016e-03 -4.62559926e-03 -1.07610384e-02 -2.05381078e-04\n",
      "  -2.06515574e-02]\n",
      " [-1.13975016e-03 -4.62559926e-03 -1.07610384e-02 -2.05381078e-04\n",
      "  -2.06515574e-02]\n",
      " [-1.13975016e-03 -4.62559926e-03 -1.07610384e-02 -2.05381078e-04\n",
      "  -2.06515574e-02]\n",
      " [-1.13975016e-03 -4.62559926e-03 -1.07610384e-02 -2.05381078e-04\n",
      "  -2.06515574e-02]\n",
      " [-1.13975016e-03 -4.62559926e-03 -1.07610384e-02 -2.05381078e-04\n",
      "  -2.06515574e-02]\n",
      " [-1.13975016e-03 -4.62559926e-03 -1.07610384e-02 -2.05381078e-04\n",
      "  -2.06515574e-02]\n",
      " [-1.13975016e-03 -4.62559926e-03 -1.07610384e-02 -2.05381078e-04\n",
      "  -2.06515574e-02]\n",
      " [-1.13975016e-03 -4.62559926e-03 -1.07610384e-02 -2.05381078e-04\n",
      "  -2.06515574e-02]\n",
      " [-1.13975016e-03 -4.62559926e-03 -1.07610384e-02 -2.05381078e-04\n",
      "  -2.06515574e-02]\n",
      " [-1.13975016e-03 -4.62559926e-03 -1.07610384e-02 -2.05381078e-04\n",
      "  -2.06515574e-02]\n",
      " [-1.13975016e-03 -4.62559926e-03 -1.07610384e-02 -2.05381078e-04\n",
      "  -2.06515574e-02]\n",
      " [-1.13975016e-03 -4.62559926e-03 -1.07610384e-02 -2.05381078e-04\n",
      "  -2.06515574e-02]\n",
      " [-1.13975016e-03 -4.62559926e-03 -1.07610384e-02 -2.05381078e-04\n",
      "  -2.06515574e-02]\n",
      " [-1.13975016e-03 -4.62559926e-03 -1.07610384e-02 -2.05381078e-04\n",
      "  -2.06515574e-02]\n",
      " [-1.13975016e-03 -4.62559926e-03 -1.07610384e-02 -2.05381078e-04\n",
      "  -2.06515574e-02]\n",
      " [-1.13975016e-03 -4.62559926e-03 -1.07610384e-02 -2.05381078e-04\n",
      "  -2.06515574e-02]\n",
      " [-1.13975016e-03 -4.62559926e-03 -1.07610384e-02 -2.05381078e-04\n",
      "  -2.06515574e-02]\n",
      " [-1.13975016e-03 -4.62559926e-03 -1.07610384e-02 -2.05381078e-04\n",
      "  -2.06515574e-02]\n",
      " [-1.13975016e-03 -4.62559926e-03 -1.07610384e-02 -2.05381078e-04\n",
      "  -2.06515574e-02]\n",
      " [-1.13975016e-03 -4.62559926e-03 -1.07610384e-02 -2.05381078e-04\n",
      "  -2.06515574e-02]\n",
      " [-1.13975016e-03 -4.62559926e-03 -1.07610384e-02 -2.05381078e-04\n",
      "  -2.06515574e-02]\n",
      " [-1.13975016e-03 -4.62559926e-03 -1.07610384e-02 -2.05381078e-04\n",
      "  -2.06515574e-02]]\n"
     ]
    }
   ],
   "source": [
    "print(test_scores)"
   ]
  },
  {
   "cell_type": "code",
   "execution_count": 80,
   "id": "d3b79988",
   "metadata": {},
   "outputs": [],
   "source": [
    "Ltrain_mean=np.mean(train_scores,axis=1)  \n",
    "Ltest_mean=np.mean(test_scores,axis=1)"
   ]
  },
  {
   "cell_type": "code",
   "execution_count": 81,
   "id": "ee0e73d8",
   "metadata": {},
   "outputs": [
    {
     "data": {
      "text/plain": [
       "<seaborn.axisgrid.JointGrid at 0x275cfd75fa0>"
      ]
     },
     "execution_count": 81,
     "metadata": {},
     "output_type": "execute_result"
    },
    {
     "data": {
      "image/png": "[encoded data removed]",
      "text/plain": [
       "<Figure size 600x600 with 3 Axes>"
      ]
     },
     "metadata": {},
     "output_type": "display_data"
    }
   ],
   "source": [
    "sns.jointplot(x=np.log(param_range),y=Ltest_mean)"
   ]
  },
  {
   "cell_type": "markdown",
   "id": "3c63b30c",
   "metadata": {},
   "source": [
    "# Training Regression Tree"
   ]
  },
  {
   "cell_type": "code",
   "execution_count": 82,
   "id": "c2360434",
   "metadata": {},
   "outputs": [],
   "source": [
    "from sklearn import tree\n",
    "regtree = tree.DecisionTreeRegressor(max_depth = 3)\n",
    "#regtree = tree.DecisionTreeRegressor(max_depth=5, min_samples_split=10, min_samples_leaf=5, random_state=42)\n"
   ]
  },
  {
   "cell_type": "code",
   "execution_count": 83,
   "id": "71fcf182",
   "metadata": {},
   "outputs": [
    {
     "data": {
      "text/plain": [
       "DecisionTreeRegressor(max_depth=3)"
      ]
     },
     "execution_count": 83,
     "metadata": {},
     "output_type": "execute_result"
    }
   ],
   "source": [
    "regtree.fit(X_train, y_train)"
   ]
  },
  {
   "cell_type": "markdown",
   "id": "619e79cd",
   "metadata": {},
   "source": [
    "# Predict values using trained model"
   ]
  },
  {
   "cell_type": "code",
   "execution_count": 84,
   "id": "ca27e98a",
   "metadata": {},
   "outputs": [],
   "source": [
    "y_train_pred = regtree.predict(X_train)\n",
    "y_test_pred = regtree.predict(X_test)"
   ]
  },
  {
   "cell_type": "code",
   "execution_count": 85,
   "id": "2a410bf0",
   "metadata": {},
   "outputs": [
    {
     "data": {
      "text/plain": [
       "array([ 73242.49487805,  67137.92249315,  67137.92249315,  77249.90582677,\n",
       "        73242.49487805,  87264.44514286,  70080.03361607,  73242.49487805,\n",
       "        67137.92249315,  73242.49487805,  70080.03361607,  77249.90582677,\n",
       "        95311.75026316,  77249.90582677,  73242.49487805, 104985.9661039 ,\n",
       "        67137.92249315,  67137.92249315,  67137.92249315,  77249.90582677,\n",
       "       104985.9661039 , 104985.9661039 ,  67137.92249315,  67137.92249315,\n",
       "        70080.03361607,  67137.92249315,  77249.90582677, 104985.9661039 ,\n",
       "        77249.90582677,  73242.49487805,  67137.92249315,  67137.92249315,\n",
       "        77180.13443038,  77249.90582677, 104985.9661039 ,  77249.90582677,\n",
       "        67137.92249315,  77180.13443038,  67137.92249315,  67137.92249315,\n",
       "        67137.92249315,  77180.13443038,  73242.49487805,  67137.92249315,\n",
       "        77249.90582677,  70080.03361607,  77180.13443038,  67137.92249315,\n",
       "        67137.92249315,  73242.49487805,  95311.75026316,  77249.90582677,\n",
       "       104985.9661039 ,  77249.90582677,  95311.75026316,  67137.92249315,\n",
       "        70080.03361607,  77180.13443038,  67137.92249315,  67137.92249315,\n",
       "        77249.90582677,  77249.90582677,  70080.03361607,  67137.92249315,\n",
       "        67137.92249315,  73242.49487805,  67137.92249315,  67137.92249315,\n",
       "        95311.75026316,  73242.49487805,  70080.03361607,  67137.92249315,\n",
       "        70080.03361607,  70080.03361607,  73242.49487805,  77249.90582677,\n",
       "        70080.03361607,  70080.03361607,  70080.03361607,  67137.92249315,\n",
       "        87264.44514286,  77249.90582677,  70080.03361607,  77249.90582677,\n",
       "        70080.03361607,  70080.03361607,  67137.92249315,  67137.92249315,\n",
       "        73242.49487805, 104985.9661039 ,  77249.90582677,  70080.03361607,\n",
       "        73242.49487805,  95311.75026316,  67137.92249315,  67137.92249315,\n",
       "        67137.92249315,  77249.90582677, 104985.9661039 ,  73242.49487805,\n",
       "        67137.92249315,  67137.92249315,  67137.92249315,  67137.92249315,\n",
       "        77180.13443038,  67137.92249315,  95311.75026316,  87264.44514286,\n",
       "        77180.13443038,  73242.49487805,  77249.90582677,  73242.49487805,\n",
       "        77180.13443038,  67137.92249315,  70080.03361607,  95311.75026316,\n",
       "        95311.75026316,  70080.03361607,  67137.92249315,  73242.49487805,\n",
       "        77180.13443038, 104985.9661039 ,  67137.92249315,  77180.13443038,\n",
       "        77249.90582677,  77249.90582677,  73242.49487805,  67137.92249315,\n",
       "        67137.92249315,  67137.92249315,  73242.49487805,  77180.13443038,\n",
       "        77249.90582677,  70080.03361607,  77180.13443038,  77249.90582677,\n",
       "        77249.90582677,  67137.92249315, 104985.9661039 ,  73242.49487805,\n",
       "        67137.92249315,  95311.75026316,  70080.03361607,  67137.92249315,\n",
       "        87264.44514286,  77249.90582677,  77249.90582677,  67137.92249315,\n",
       "        67137.92249315,  67137.92249315,  67137.92249315,  77249.90582677,\n",
       "        87264.44514286,  77180.13443038,  67137.92249315,  67137.92249315,\n",
       "        77249.90582677,  67137.92249315,  70080.03361607,  70080.03361607,\n",
       "        67137.92249315,  77249.90582677,  73242.49487805,  70080.03361607,\n",
       "        70080.03361607,  77249.90582677,  87264.44514286,  77249.90582677,\n",
       "        87264.44514286,  67137.92249315,  67137.92249315,  70080.03361607,\n",
       "        87264.44514286,  67137.92249315,  67137.92249315,  77249.90582677,\n",
       "        67137.92249315,  77180.13443038,  77249.90582677, 104985.9661039 ,\n",
       "        67137.92249315,  77249.90582677,  73242.49487805, 104985.9661039 ,\n",
       "        73242.49487805,  87264.44514286,  67137.92249315,  67137.92249315,\n",
       "        73242.49487805,  73242.49487805,  67137.92249315,  73242.49487805,\n",
       "        77249.90582677,  67137.92249315,  95311.75026316,  73242.49487805,\n",
       "       104985.9661039 ,  77249.90582677,  70080.03361607,  67137.92249315,\n",
       "        73242.49487805,  95311.75026316,  77249.90582677,  67137.92249315,\n",
       "        67137.92249315,  73242.49487805,  73242.49487805,  67137.92249315,\n",
       "       104985.9661039 ,  67137.92249315,  67137.92249315, 104985.9661039 ,\n",
       "        77249.90582677,  67137.92249315,  67137.92249315,  77249.90582677,\n",
       "        67137.92249315,  77249.90582677,  77249.90582677,  73242.49487805,\n",
       "        67137.92249315,  67137.92249315, 104985.9661039 ,  77249.90582677,\n",
       "        67137.92249315,  77249.90582677,  77249.90582677,  67137.92249315,\n",
       "        67137.92249315,  67137.92249315,  77180.13443038,  67137.92249315,\n",
       "        70080.03361607,  87264.44514286,  77249.90582677,  73242.49487805,\n",
       "        67137.92249315,  77249.90582677,  77249.90582677,  73242.49487805,\n",
       "        70080.03361607,  77180.13443038,  73242.49487805,  73242.49487805,\n",
       "        77180.13443038, 104985.9661039 ,  67137.92249315,  77249.90582677,\n",
       "        87264.44514286,  67137.92249315,  67137.92249315,  67137.92249315,\n",
       "        77249.90582677,  77249.90582677,  77249.90582677,  77180.13443038,\n",
       "        67137.92249315,  70080.03361607,  67137.92249315,  77249.90582677,\n",
       "        73242.49487805,  73242.49487805,  67137.92249315, 104985.9661039 ,\n",
       "        67137.92249315,  67137.92249315,  77249.90582677,  77249.90582677,\n",
       "        77249.90582677,  77249.90582677,  77249.90582677,  95311.75026316,\n",
       "        67137.92249315,  70080.03361607,  77249.90582677,  67137.92249315,\n",
       "        73242.49487805,  67137.92249315,  67137.92249315,  77249.90582677,\n",
       "        67137.92249315,  73242.49487805,  67137.92249315,  67137.92249315,\n",
       "        87264.44514286,  67137.92249315,  73242.49487805,  70080.03361607,\n",
       "        77249.90582677,  70080.03361607,  73242.49487805,  87264.44514286,\n",
       "        95311.75026316,  67137.92249315,  77249.90582677,  77249.90582677,\n",
       "        77249.90582677,  73242.49487805,  67137.92249315,  77180.13443038,\n",
       "        95311.75026316,  77249.90582677,  77249.90582677,  67137.92249315,\n",
       "        67137.92249315,  67137.92249315,  77249.90582677,  67137.92249315,\n",
       "        67137.92249315,  73242.49487805,  67137.92249315,  67137.92249315,\n",
       "        70080.03361607,  77249.90582677,  73242.49487805,  70080.03361607,\n",
       "        67137.92249315,  77249.90582677])"
      ]
     },
     "execution_count": 85,
     "metadata": {},
     "output_type": "execute_result"
    }
   ],
   "source": [
    "y_test_pred"
   ]
  },
  {
   "cell_type": "markdown",
   "id": "0ecd8bac",
   "metadata": {},
   "source": [
    "# Model Performance"
   ]
  },
  {
   "cell_type": "code",
   "execution_count": 86,
   "id": "9e39e59d",
   "metadata": {},
   "outputs": [
    {
     "data": {
      "text/plain": [
       "60424631.02613481"
      ]
     },
     "execution_count": 86,
     "metadata": {},
     "output_type": "execute_result"
    }
   ],
   "source": [
    "mae_tree=mean_squared_error(y_test, y_test_pred)\n",
    "mae_tree"
   ]
  },
  {
   "cell_type": "code",
   "execution_count": 87,
   "id": "e8b7c4f0",
   "metadata": {},
   "outputs": [
    {
     "data": {
      "text/plain": [
       "7773.328182068142"
      ]
     },
     "execution_count": 87,
     "metadata": {},
     "output_type": "execute_result"
    }
   ],
   "source": [
    "rmse_tree=np.sqrt(mae_tree)\n",
    "rmse_tree"
   ]
  },
  {
   "cell_type": "code",
   "execution_count": 88,
   "id": "08a4aeac",
   "metadata": {},
   "outputs": [],
   "source": [
    "from sklearn.metrics import mean_squared_error, r2_score"
   ]
  },
  {
   "cell_type": "code",
   "execution_count": 89,
   "id": "d64c3fd8",
   "metadata": {},
   "outputs": [
    {
     "data": {
      "text/plain": [
       "0.6137194061789908"
      ]
     },
     "execution_count": 89,
     "metadata": {},
     "output_type": "execute_result"
    }
   ],
   "source": [
    "r2_score(y_train, y_train_pred)"
   ]
  },
  {
   "cell_type": "code",
   "execution_count": 90,
   "id": "5162e1d0",
   "metadata": {},
   "outputs": [
    {
     "data": {
      "text/plain": [
       "0.5927831611924907"
      ]
     },
     "execution_count": 90,
     "metadata": {},
     "output_type": "execute_result"
    }
   ],
   "source": [
    "r2_score(y_test, y_test_pred)"
   ]
  },
  {
   "cell_type": "markdown",
   "id": "07f1f325",
   "metadata": {},
   "source": [
    "# Plotting decision tree"
   ]
  },
  {
   "cell_type": "code",
   "execution_count": 91,
   "id": "a396cbc5",
   "metadata": {},
   "outputs": [],
   "source": [
    "dot_data = tree.export_graphviz(regtree, out_file=None,feature_names= X_train.columns, filled = True)"
   ]
  },
  {
   "cell_type": "code",
   "execution_count": 92,
   "id": "7612bed4",
   "metadata": {},
   "outputs": [],
   "source": [
    "from IPython.display import Image"
   ]
  },
  {
   "cell_type": "code",
   "execution_count": 93,
   "id": "49caaf64",
   "metadata": {},
   "outputs": [],
   "source": [
    "import pydotplus"
   ]
  },
  {
   "cell_type": "code",
   "execution_count": 94,
   "id": "c9be64a5",
   "metadata": {},
   "outputs": [
    {
     "data": {
      "image/png": "[encoded data removed]",
      "text/plain": [
       "<IPython.core.display.Image object>"
      ]
     },
     "execution_count": 94,
     "metadata": {},
     "output_type": "execute_result"
    }
   ],
   "source": [
    "graph = pydotplus.graph_from_dot_data(dot_data)\n",
    "Image(graph.create_png())"
   ]
  },
  {
   "cell_type": "markdown",
   "id": "6ad48903",
   "metadata": {},
   "source": [
    "# xgboost"
   ]
  },
  {
   "cell_type": "code",
   "execution_count": 95,
   "id": "536e6597",
   "metadata": {},
   "outputs": [],
   "source": [
    "import xgboost as xgb\n"
   ]
  },
  {
   "cell_type": "code",
   "execution_count": 96,
   "id": "918c107a",
   "metadata": {},
   "outputs": [],
   "source": [
    "X_train,X_test,y_train,y_test=train_test_split(X_multi,y_multi,test_size=0.2,random_state=0)"
   ]
  },
  {
   "cell_type": "code",
   "execution_count": 97,
   "id": "cda88ec2",
   "metadata": {},
   "outputs": [],
   "source": [
    "model = xgb.XGBRegressor(objective='reg:squarederror', n_estimators=100, max_depth=3, learning_rate=0.1)\n"
   ]
  },
  {
   "cell_type": "code",
   "execution_count": 98,
   "id": "d6d774fd",
   "metadata": {},
   "outputs": [
    {
     "data": {
      "text/plain": [
       "XGBRegressor(base_score=None, booster=None, callbacks=None,\n",
       "             colsample_bylevel=None, colsample_bynode=None,\n",
       "             colsample_bytree=None, early_stopping_rounds=None,\n",
       "             enable_categorical=False, eval_metric=None, feature_types=None,\n",
       "             gamma=None, gpu_id=None, grow_policy=None, importance_type=None,\n",
       "             interaction_constraints=None, learning_rate=0.1, max_bin=None,\n",
       "             max_cat_threshold=None, max_cat_to_onehot=None,\n",
       "             max_delta_step=None, max_depth=3, max_leaves=None,\n",
       "             min_child_weight=None, missing=nan, monotone_constraints=None,\n",
       "             n_estimators=100, n_jobs=None, num_parallel_tree=None,\n",
       "             predictor=None, random_state=None, ...)"
      ]
     },
     "execution_count": 98,
     "metadata": {},
     "output_type": "execute_result"
    }
   ],
   "source": [
    "model.fit(X_train, y_train)\n"
   ]
  },
  {
   "cell_type": "code",
   "execution_count": 99,
   "id": "3cda47a6",
   "metadata": {},
   "outputs": [],
   "source": [
    "y_xgb_train = model.predict(X_train)\n",
    "y_xgb_test = model.predict(X_test)"
   ]
  },
  {
   "cell_type": "markdown",
   "id": "73c96f9c",
   "metadata": {},
   "source": [
    "# Calculate metrics"
   ]
  },
  {
   "cell_type": "code",
   "execution_count": 100,
   "id": "ace5c57f",
   "metadata": {},
   "outputs": [],
   "source": [
    "from sklearn.metrics import mean_absolute_error, mean_squared_error, r2_score\n"
   ]
  },
  {
   "cell_type": "code",
   "execution_count": 101,
   "id": "d5445768",
   "metadata": {},
   "outputs": [
    {
     "data": {
      "text/plain": [
       "57286370.68220719"
      ]
     },
     "execution_count": 101,
     "metadata": {},
     "output_type": "execute_result"
    }
   ],
   "source": [
    "mse_xgb=mean_squared_error(y_test, y_xgb_test)\n",
    "mse_xgb"
   ]
  },
  {
   "cell_type": "code",
   "execution_count": 102,
   "id": "d9f224e9",
   "metadata": {},
   "outputs": [
    {
     "data": {
      "text/plain": [
       "7568.776035939179"
      ]
     },
     "execution_count": 102,
     "metadata": {},
     "output_type": "execute_result"
    }
   ],
   "source": [
    "rmse_xgb=np.sqrt(mse_xgb)\n",
    "rmse_xgb"
   ]
  },
  {
   "cell_type": "code",
   "execution_count": 103,
   "id": "681a7a8c",
   "metadata": {},
   "outputs": [
    {
     "data": {
      "text/plain": [
       "5859.567824292453"
      ]
     },
     "execution_count": 103,
     "metadata": {},
     "output_type": "execute_result"
    }
   ],
   "source": [
    "xgb_mae = mean_absolute_error(y_test, y_xgb_test)\n",
    "xgb_mae"
   ]
  },
  {
   "cell_type": "code",
   "execution_count": 104,
   "id": "e43bdfac",
   "metadata": {},
   "outputs": [],
   "source": [
    "r2score_xgb=r2_score(y_test, y_xgb_test)"
   ]
  },
  {
   "cell_type": "code",
   "execution_count": 105,
   "id": "9f47908f",
   "metadata": {},
   "outputs": [
    {
     "data": {
      "text/plain": [
       "0.6139326897027506"
      ]
     },
     "execution_count": 105,
     "metadata": {},
     "output_type": "execute_result"
    }
   ],
   "source": [
    "r2score_xgb"
   ]
  },
  {
   "cell_type": "markdown",
   "id": "fc08af34",
   "metadata": {},
   "source": [
    "# Support Vector Regression (SVR)"
   ]
  },
  {
   "cell_type": "code",
   "execution_count": 106,
   "id": "0d8fd70a",
   "metadata": {},
   "outputs": [],
   "source": [
    "import numpy as np\n",
    "from sklearn.svm import SVR"
   ]
  },
  {
   "cell_type": "code",
   "execution_count": 127,
   "id": "711a936a",
   "metadata": {},
   "outputs": [],
   "source": [
    "X_train,X_test,y_train,y_test=train_test_split(X_multi,y_multi,test_size=0.2,random_state=0)"
   ]
  },
  {
   "cell_type": "code",
   "execution_count": 128,
   "id": "eec34f5e",
   "metadata": {},
   "outputs": [],
   "source": [
    "model_svr= SVR(kernel='rbf', C=1.0, epsilon=0.1)\n"
   ]
  },
  {
   "cell_type": "code",
   "execution_count": 129,
   "id": "c85f2ca2",
   "metadata": {},
   "outputs": [
    {
     "data": {
      "text/plain": [
       "SVR()"
      ]
     },
     "execution_count": 129,
     "metadata": {},
     "output_type": "execute_result"
    }
   ],
   "source": [
    "model_svr.fit(X_train, y_train)\n"
   ]
  },
  {
   "cell_type": "code",
   "execution_count": 130,
   "id": "dbe2f28c",
   "metadata": {},
   "outputs": [],
   "source": [
    "y_svr_train = model.predict(X_train)\n",
    "y_svr_test = model.predict(X_test)"
   ]
  },
  {
   "cell_type": "markdown",
   "id": "1bc52f84",
   "metadata": {},
   "source": [
    "# Calculate metrics"
   ]
  },
  {
   "cell_type": "code",
   "execution_count": 131,
   "id": "a7304194",
   "metadata": {},
   "outputs": [
    {
     "data": {
      "text/plain": [
       "154299337.583128"
      ]
     },
     "execution_count": 131,
     "metadata": {},
     "output_type": "execute_result"
    }
   ],
   "source": [
    "mse_svr=mean_squared_error(y_test, y_svr_test)\n",
    "mse_svr"
   ]
  },
  {
   "cell_type": "code",
   "execution_count": 132,
   "id": "daa5b926",
   "metadata": {},
   "outputs": [
    {
     "data": {
      "text/plain": [
       "12421.728445877732"
      ]
     },
     "execution_count": 132,
     "metadata": {},
     "output_type": "execute_result"
    }
   ],
   "source": [
    "rmse_svr=np.sqrt(mse_svr)\n",
    "rmse_svr"
   ]
  },
  {
   "cell_type": "code",
   "execution_count": 133,
   "id": "ba5c8ba4",
   "metadata": {},
   "outputs": [
    {
     "data": {
      "text/plain": [
       "9175.253010285202"
      ]
     },
     "execution_count": 133,
     "metadata": {},
     "output_type": "execute_result"
    }
   ],
   "source": [
    "svr_mae = mean_absolute_error(y_test, y_svr_test)\n",
    "svr_mae"
   ]
  },
  {
   "cell_type": "code",
   "execution_count": 134,
   "id": "6b4a435e",
   "metadata": {},
   "outputs": [
    {
     "data": {
      "text/plain": [
       "0.6139326897027506"
      ]
     },
     "execution_count": 134,
     "metadata": {},
     "output_type": "execute_result"
    }
   ],
   "source": [
    "r2score_svr=r2_score(y_test, y_xgb_test)\n",
    "r2score_svr"
   ]
  },
  {
   "cell_type": "markdown",
   "id": "a978f444",
   "metadata": {},
   "source": [
    "# Create Visualizations"
   ]
  },
  {
   "cell_type": "code",
   "execution_count": 135,
   "id": "e61652d4",
   "metadata": {},
   "outputs": [],
   "source": [
    "Models = ['XGBoost', 'SVR', 'Decision Trees', 'Linear Regression']"
   ]
  },
  {
   "cell_type": "code",
   "execution_count": 136,
   "id": "9a164671",
   "metadata": {},
   "outputs": [],
   "source": [
    "mae_values =[5859.567824292453,9175.253010285202,57286370.68220719,6592.541375056073]\n",
    "rmse_values =[7568.776035939179,12421.728445877732,7568.776035939179,8301.19694378632]\n",
    "r2_values =[0.6139326897027506,0.6139326897027506,0.5927831611924911,0.5355989894789973]"
   ]
  },
  {
   "cell_type": "code",
   "execution_count": 137,
   "id": "98cd90d5",
   "metadata": {},
   "outputs": [
    {
     "data": {
      "image/png": "[encoded data removed]",
      "text/plain": [
       "<Figure size 1000x1500 with 3 Axes>"
      ]
     },
     "metadata": {},
     "output_type": "display_data"
    }
   ],
   "source": [
    "fig, axs = plt.subplots(3, 1, figsize=(10, 15))\n",
    "# Bar chart for MAE\n",
    "axs[0].bar(Models, mae_values, color='blue')\n",
    "axs[0].set_title('Mean Absolute Error (MAE)')\n",
    "axs[0].set_ylabel('MAE')\n",
    "\n",
    "# Bar chart for RMSE\n",
    "axs[1].bar(Models, rmse_values, color='green')\n",
    "axs[1].set_title('Root Mean Squared Error (RMSE)')\n",
    "axs[1].set_ylabel('RMSE')\n",
    "\n",
    "# Bar chart for R-squared\n",
    "axs[2].bar(Models, r2_values, color='orange')\n",
    "axs[2].set_title('R-squared (R2)')\n",
    "axs[2].set_ylabel('R2')\n",
    "\n",
    "plt.tight_layout()\n",
    "\n",
    "# Show the plots\n",
    "plt.show()"
   ]
  },
  {
   "cell_type": "code",
   "execution_count": 138,
   "id": "68a1c8ea",
   "metadata": {},
   "outputs": [
    {
     "data": {
      "text/html": [
       "<div>\n",
       "<style scoped>\n",
       "    .dataframe tbody tr th:only-of-type {\n",
       "        vertical-align: middle;\n",
       "    }\n",
       "\n",
       "    .dataframe tbody tr th {\n",
       "        vertical-align: top;\n",
       "    }\n",
       "\n",
       "    .dataframe thead th {\n",
       "        text-align: right;\n",
       "    }\n",
       "</style>\n",
       "<table border=\"1\" class=\"dataframe\">\n",
       "  <thead>\n",
       "    <tr style=\"text-align: right;\">\n",
       "      <th></th>\n",
       "      <th>College</th>\n",
       "      <th>City</th>\n",
       "      <th>Previous_CTC</th>\n",
       "      <th>Previous_job_change</th>\n",
       "      <th>Graduation_Marks</th>\n",
       "      <th>EXP_Month</th>\n",
       "      <th>CTC</th>\n",
       "      <th>Role_Manager</th>\n",
       "    </tr>\n",
       "  </thead>\n",
       "  <tbody>\n",
       "    <tr>\n",
       "      <th>0</th>\n",
       "      <td>2</td>\n",
       "      <td>1</td>\n",
       "      <td>55523.0</td>\n",
       "      <td>3</td>\n",
       "      <td>66</td>\n",
       "      <td>19</td>\n",
       "      <td>71406.58</td>\n",
       "      <td>1</td>\n",
       "    </tr>\n",
       "    <tr>\n",
       "      <th>1</th>\n",
       "      <td>2</td>\n",
       "      <td>1</td>\n",
       "      <td>57081.0</td>\n",
       "      <td>1</td>\n",
       "      <td>84</td>\n",
       "      <td>18</td>\n",
       "      <td>68005.87</td>\n",
       "      <td>0</td>\n",
       "    </tr>\n",
       "    <tr>\n",
       "      <th>2</th>\n",
       "      <td>3</td>\n",
       "      <td>1</td>\n",
       "      <td>60347.0</td>\n",
       "      <td>2</td>\n",
       "      <td>52</td>\n",
       "      <td>28</td>\n",
       "      <td>76764.02</td>\n",
       "      <td>0</td>\n",
       "    </tr>\n",
       "    <tr>\n",
       "      <th>3</th>\n",
       "      <td>3</td>\n",
       "      <td>1</td>\n",
       "      <td>49010.0</td>\n",
       "      <td>2</td>\n",
       "      <td>81</td>\n",
       "      <td>33</td>\n",
       "      <td>82092.39</td>\n",
       "      <td>0</td>\n",
       "    </tr>\n",
       "    <tr>\n",
       "      <th>4</th>\n",
       "      <td>1</td>\n",
       "      <td>1</td>\n",
       "      <td>57879.0</td>\n",
       "      <td>4</td>\n",
       "      <td>74</td>\n",
       "      <td>32</td>\n",
       "      <td>73878.10</td>\n",
       "      <td>0</td>\n",
       "    </tr>\n",
       "  </tbody>\n",
       "</table>\n",
       "</div>"
      ],
      "text/plain": [
       "   College  City  Previous_CTC  Previous_job_change  Graduation_Marks  \\\n",
       "0        2     1       55523.0                    3                66   \n",
       "1        2     1       57081.0                    1                84   \n",
       "2        3     1       60347.0                    2                52   \n",
       "3        3     1       49010.0                    2                81   \n",
       "4        1     1       57879.0                    4                74   \n",
       "\n",
       "   EXP_Month       CTC  Role_Manager  \n",
       "0         19  71406.58             1  \n",
       "1         18  68005.87             0  \n",
       "2         28  76764.02             0  \n",
       "3         33  82092.39             0  \n",
       "4         32  73878.10             0  "
      ]
     },
     "execution_count": 138,
     "metadata": {},
     "output_type": "execute_result"
    }
   ],
   "source": [
    "df1.head()"
   ]
  },
  {
   "cell_type": "markdown",
   "id": "c43b617d",
   "metadata": {},
   "source": [
    "# Salary Predictions"
   ]
  },
  {
   "cell_type": "code",
   "execution_count": 141,
   "id": "4be3c17d",
   "metadata": {},
   "outputs": [
    {
     "name": "stdout",
     "output_type": "stream",
     "text": [
      "Enter college value: 1\n",
      "Enter city value: 1\n",
      "Enter Previous CTC value: 55000\n",
      "Enter Previous job change value: 1\n",
      "Enter Graduation Marks value: 66\n",
      "EXP_Month:14\n",
      "Role_Manager:1\n",
      "Input data as NumPy array: [    1     1 55000     1    66    14     1]\n"
     ]
    }
   ],
   "source": [
    "import numpy as np\n",
    "\n",
    "# Take multiple inputs and store them as a NumPy array\n",
    "college = int(input(\"Enter college value: \"))\n",
    "city = int(input(\"Enter city value: \"))\n",
    "Previous_CTC = int(input(\"Enter Previous CTC value: \"))\n",
    "Previous_job_change = int(input(\"Enter Previous job change value: \"))\n",
    "Graduation_Marks = int(input(\"Enter Graduation Marks value: \"))\n",
    "EXP_Month=int(input('EXP_Month:'))\n",
    "Role_Manager=int(input('Role_Manager:'))\n",
    "new_input_data = np.array([college, city, Previous_CTC, Previous_job_change, Graduation_Marks,EXP_Month,Role_Manager])\n",
    "\n",
    "print(\"Input data as NumPy array:\", new_input_data)"
   ]
  },
  {
   "cell_type": "code",
   "execution_count": 143,
   "id": "354bcbfc",
   "metadata": {
    "scrolled": true
   },
   "outputs": [
    {
     "name": "stdout",
     "output_type": "stream",
     "text": [
      "Predicted CTC: 72995.68425276886\n"
     ]
    },
    {
     "name": "stderr",
     "output_type": "stream",
     "text": [
      "C:\\Users\\rushi\\anaconda3\\lib\\site-packages\\sklearn\\base.py:450: UserWarning: X does not have valid feature names, but SVR was fitted with feature names\n",
      "  warnings.warn(\n"
     ]
    }
   ],
   "source": [
    "new_input_data_reshaped = new_input_data.reshape(1, -1)\n",
    "predicted_CTC = model.predict(new_input_data_reshaped)\n",
    "\n",
    "print(\"Predicted CTC:\", predicted_CTC[0])\n"
   ]
  },
  {
   "cell_type": "markdown",
   "id": "a3421558",
   "metadata": {},
   "source": [
    "1. Your views about the problem statement?\n"
   ]
  },
  {
   "cell_type": "markdown",
   "id": "3d7c2191",
   "metadata": {},
   "source": [
    "ANS:- \n",
    "For the task of predicting employee salaries based on features like College,qualifications, experience, and other factors, you would typically use Linear Regression rather than Logistic Regression.\n",
    "Linear regression is used when the target variable in this case, CTC is a continuous numeric value. It predicts a continuous output. \n",
    "Logistic regression, on the other hand, is used when the target variable is categorical and represents binary outcomes.It predicts the probability of a binary outcome.\n",
    "The goal is to develop a model that can accurately predict an employee's salary based on various features such as colleges, job experience, location, etc. This is a common and practical problem faced by many organizations when determining compensation for employees.The problem statement is well-defined and relevant, as salary prediction is crucial for maintaining fairness, consistency, and competitiveness in the job market. By leveraging historical data on employee qualifications, experience, and salaries, a machine learning model can be trained to make data-driven predictions, providing a more objective and accurate approach to salary determination.\n",
    " The use of regression techniques, such as Linear Regression, Support Vector Regression (SVR), and XGBoost, is appropriate for this problem. These techniques are suitable for predicting continuous values like salaries. Furthermore, the idea of comparing multiple models using metrics like Mean Absolute Error (MAE), Root Mean Squared Error (RMSE), and R-squared is a valid approach to assess their performance and identify the most effective model"
   ]
  },
  {
   "cell_type": "markdown",
   "id": "19626d09",
   "metadata": {},
   "source": [
    "2. What will be your approach to solving this task?"
   ]
  },
  {
   "cell_type": "markdown",
   "id": "a7ea26e1",
   "metadata": {},
   "source": [
    "ANS:-\n",
    "Following steps we have to do\n",
    "Data Collection and Understanding:\n",
    "Observe data about employees, including features like College,City, education level, job experience, certifications, location, and CTC.\n",
    "Understand the structure of the dataset, explore the distribution of features, and identify any missing or outlier values.\n",
    "Data Preprocessing:\n",
    "Handle missing values: Impute missing values using appropriate techniques, such as mean, median.\n",
    "Encode categorical variables, Convert categorical variables into numerical format.\n",
    "Split the dataset: Divide the data into training and testing sets for model evaluation.\n",
    " We Train all models and then evaluate the models using relevant regression metrics such as MAE, RMSE, and R-squared then \n",
    "Compare the models' performance to determine which one yields the best results\n",
    "\n"
   ]
  },
  {
   "cell_type": "markdown",
   "id": "c6b0bad6",
   "metadata": {},
   "source": [
    "3.What were the available ML model options you had to perform this task?"
   ]
  },
  {
   "cell_type": "markdown",
   "id": "6ffa89ba",
   "metadata": {},
   "source": [
    "ANS:-\n",
    "1)Linear Regression is a simple and interpretable model that assumes a linear relationship between the features and the target variable.\n",
    "2)Support Vector Regression is useful when dealing with non-linear relationships between features and the target variable.\n",
    "3)Decision Trees are tree-like models that partition the feature space into segments.\n",
    "4)Gradient Boosting algorithms, like XGBoost and LightGBM, build an ensemble of decision trees sequentially. They perform well on complex tasks and often offer feature importance analysis."
   ]
  },
  {
   "cell_type": "markdown",
   "id": "59b8b78c",
   "metadata": {},
   "source": [
    "4.Which model’s performance is best and what could be the possible reason for that?"
   ]
  },
  {
   "cell_type": "markdown",
   "id": "036b0106",
   "metadata": {},
   "source": [
    "ANS:-\n",
    "Determining which model's performance is the best depends on the specific evaluation metrics (MAE, RMSE, R-squared) you are considering and how well each model performs on those metrics. Generally, a model with lower MAE and RMSE and higher R-squared is considered better.\n",
    "On the above visualisations Xg-boost And Linear Regression Perform a well for this model I have select the  Xg-boost.\n",
    "XGBoost is an ensemble technique that can capture complex relationships and interactions. It might excel if the dataset is large and requires more sophisticated model tuning to optimize performance."
   ]
  },
  {
   "cell_type": "markdown",
   "id": "9c47d9ff",
   "metadata": {},
   "source": [
    "5.What steps can you take to improve this selected model’s performance even further?"
   ]
  },
  {
   "cell_type": "markdown",
   "id": "7f144ee9",
   "metadata": {},
   "source": [
    "The selected XGBoost model for salary prediction to improve performance use Hyperparameter Tuning XGBoost has a wide range of hyperparameters that can significantly impact its performance. Use techniques like grid search or randomized search to find the best combination of hyperparameters that optimize model performance. Analyze the importance of each feature using XGBoost's built-in feature importance scores. we can experiment with removing less important features or creating new features that might better capture relationships in the data.\n",
    "Perform thorough cross-validation to ensure that the model's performance estimates are robust and reliable. "
   ]
  }
 ],
 "metadata": {
  "kernelspec": {
   "display_name": "Python 3 (ipykernel)",
   "language": "python",
   "name": "python3"
  },
  "language_info": {
   "codemirror_mode": {
    "name": "ipython",
    "version": 3
   },
   "file_extension": ".py",
   "mimetype": "text/x-python",
   "name": "python",
   "nbconvert_exporter": "python",
   "pygments_lexer": "ipython3",
   "version": "3.9.13"
  }
 },
 "nbformat": 4,
 "nbformat_minor": 5
}
